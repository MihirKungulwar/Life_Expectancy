{
 "cells": [
  {
   "cell_type": "code",
   "execution_count": 1,
   "metadata": {},
   "outputs": [],
   "source": [
    "import pandas as pd\n",
    "import numpy as np\n",
    "import requests\n",
    "from bs4 import BeautifulSoup"
   ]
  },
  {
   "cell_type": "code",
   "execution_count": 2,
   "metadata": {},
   "outputs": [],
   "source": [
    "pd.set_option(\"display.max_columns\", None)"
   ]
  },
  {
   "cell_type": "code",
   "execution_count": 3,
   "metadata": {},
   "outputs": [],
   "source": [
    "life_expectancy = pd.read_csv('Life Expectancy Data.csv')\n",
    "coordinates = pd.read_csv('world_country_and_usa_states_latitude_and_longitude_values.csv')"
   ]
  },
  {
   "cell_type": "code",
   "execution_count": 4,
   "metadata": {},
   "outputs": [
    {
     "data": {
      "text/html": [
       "<div>\n",
       "<style scoped>\n",
       "    .dataframe tbody tr th:only-of-type {\n",
       "        vertical-align: middle;\n",
       "    }\n",
       "\n",
       "    .dataframe tbody tr th {\n",
       "        vertical-align: top;\n",
       "    }\n",
       "\n",
       "    .dataframe thead th {\n",
       "        text-align: right;\n",
       "    }\n",
       "</style>\n",
       "<table border=\"1\" class=\"dataframe\">\n",
       "  <thead>\n",
       "    <tr style=\"text-align: right;\">\n",
       "      <th></th>\n",
       "      <th>Country</th>\n",
       "      <th>Year</th>\n",
       "      <th>Status</th>\n",
       "      <th>Life expectancy</th>\n",
       "      <th>Adult Mortality</th>\n",
       "      <th>infant deaths</th>\n",
       "      <th>Alcohol</th>\n",
       "      <th>percentage expenditure</th>\n",
       "      <th>Hepatitis B</th>\n",
       "      <th>Measles</th>\n",
       "      <th>BMI</th>\n",
       "      <th>under-five deaths</th>\n",
       "      <th>Polio</th>\n",
       "      <th>Total expenditure</th>\n",
       "      <th>Diphtheria</th>\n",
       "      <th>HIV/AIDS</th>\n",
       "      <th>GDP</th>\n",
       "      <th>Population</th>\n",
       "      <th>thinness  1-19 years</th>\n",
       "      <th>thinness 5-9 years</th>\n",
       "      <th>Income composition of resources</th>\n",
       "      <th>Schooling</th>\n",
       "    </tr>\n",
       "  </thead>\n",
       "  <tbody>\n",
       "    <tr>\n",
       "      <th>0</th>\n",
       "      <td>Afghanistan</td>\n",
       "      <td>2015</td>\n",
       "      <td>Developing</td>\n",
       "      <td>65.0</td>\n",
       "      <td>263.0</td>\n",
       "      <td>62</td>\n",
       "      <td>0.01</td>\n",
       "      <td>71.279624</td>\n",
       "      <td>65.0</td>\n",
       "      <td>1154</td>\n",
       "      <td>19.1</td>\n",
       "      <td>83</td>\n",
       "      <td>6.0</td>\n",
       "      <td>8.16</td>\n",
       "      <td>65.0</td>\n",
       "      <td>0.1</td>\n",
       "      <td>584.259210</td>\n",
       "      <td>33736494.0</td>\n",
       "      <td>17.2</td>\n",
       "      <td>17.3</td>\n",
       "      <td>0.479</td>\n",
       "      <td>10.1</td>\n",
       "    </tr>\n",
       "    <tr>\n",
       "      <th>1</th>\n",
       "      <td>Afghanistan</td>\n",
       "      <td>2014</td>\n",
       "      <td>Developing</td>\n",
       "      <td>59.9</td>\n",
       "      <td>271.0</td>\n",
       "      <td>64</td>\n",
       "      <td>0.01</td>\n",
       "      <td>73.523582</td>\n",
       "      <td>62.0</td>\n",
       "      <td>492</td>\n",
       "      <td>18.6</td>\n",
       "      <td>86</td>\n",
       "      <td>58.0</td>\n",
       "      <td>8.18</td>\n",
       "      <td>62.0</td>\n",
       "      <td>0.1</td>\n",
       "      <td>612.696514</td>\n",
       "      <td>327582.0</td>\n",
       "      <td>17.5</td>\n",
       "      <td>17.5</td>\n",
       "      <td>0.476</td>\n",
       "      <td>10.0</td>\n",
       "    </tr>\n",
       "    <tr>\n",
       "      <th>2</th>\n",
       "      <td>Afghanistan</td>\n",
       "      <td>2013</td>\n",
       "      <td>Developing</td>\n",
       "      <td>59.9</td>\n",
       "      <td>268.0</td>\n",
       "      <td>66</td>\n",
       "      <td>0.01</td>\n",
       "      <td>73.219243</td>\n",
       "      <td>64.0</td>\n",
       "      <td>430</td>\n",
       "      <td>18.1</td>\n",
       "      <td>89</td>\n",
       "      <td>62.0</td>\n",
       "      <td>8.13</td>\n",
       "      <td>64.0</td>\n",
       "      <td>0.1</td>\n",
       "      <td>631.744976</td>\n",
       "      <td>31731688.0</td>\n",
       "      <td>17.7</td>\n",
       "      <td>17.7</td>\n",
       "      <td>0.470</td>\n",
       "      <td>9.9</td>\n",
       "    </tr>\n",
       "    <tr>\n",
       "      <th>3</th>\n",
       "      <td>Afghanistan</td>\n",
       "      <td>2012</td>\n",
       "      <td>Developing</td>\n",
       "      <td>59.5</td>\n",
       "      <td>272.0</td>\n",
       "      <td>69</td>\n",
       "      <td>0.01</td>\n",
       "      <td>78.184215</td>\n",
       "      <td>67.0</td>\n",
       "      <td>2787</td>\n",
       "      <td>17.6</td>\n",
       "      <td>93</td>\n",
       "      <td>67.0</td>\n",
       "      <td>8.52</td>\n",
       "      <td>67.0</td>\n",
       "      <td>0.1</td>\n",
       "      <td>669.959000</td>\n",
       "      <td>3696958.0</td>\n",
       "      <td>17.9</td>\n",
       "      <td>18.0</td>\n",
       "      <td>0.463</td>\n",
       "      <td>9.8</td>\n",
       "    </tr>\n",
       "    <tr>\n",
       "      <th>4</th>\n",
       "      <td>Afghanistan</td>\n",
       "      <td>2011</td>\n",
       "      <td>Developing</td>\n",
       "      <td>59.2</td>\n",
       "      <td>275.0</td>\n",
       "      <td>71</td>\n",
       "      <td>0.01</td>\n",
       "      <td>7.097109</td>\n",
       "      <td>68.0</td>\n",
       "      <td>3013</td>\n",
       "      <td>17.2</td>\n",
       "      <td>97</td>\n",
       "      <td>68.0</td>\n",
       "      <td>7.87</td>\n",
       "      <td>68.0</td>\n",
       "      <td>0.1</td>\n",
       "      <td>63.537231</td>\n",
       "      <td>2978599.0</td>\n",
       "      <td>18.2</td>\n",
       "      <td>18.2</td>\n",
       "      <td>0.454</td>\n",
       "      <td>9.5</td>\n",
       "    </tr>\n",
       "  </tbody>\n",
       "</table>\n",
       "</div>"
      ],
      "text/plain": [
       "       Country  Year      Status  Life expectancy   Adult Mortality  \\\n",
       "0  Afghanistan  2015  Developing              65.0            263.0   \n",
       "1  Afghanistan  2014  Developing              59.9            271.0   \n",
       "2  Afghanistan  2013  Developing              59.9            268.0   \n",
       "3  Afghanistan  2012  Developing              59.5            272.0   \n",
       "4  Afghanistan  2011  Developing              59.2            275.0   \n",
       "\n",
       "   infant deaths  Alcohol  percentage expenditure  Hepatitis B  Measles   \\\n",
       "0             62     0.01               71.279624         65.0      1154   \n",
       "1             64     0.01               73.523582         62.0       492   \n",
       "2             66     0.01               73.219243         64.0       430   \n",
       "3             69     0.01               78.184215         67.0      2787   \n",
       "4             71     0.01                7.097109         68.0      3013   \n",
       "\n",
       "    BMI   under-five deaths   Polio  Total expenditure  Diphtheria   \\\n",
       "0   19.1                  83    6.0               8.16         65.0   \n",
       "1   18.6                  86   58.0               8.18         62.0   \n",
       "2   18.1                  89   62.0               8.13         64.0   \n",
       "3   17.6                  93   67.0               8.52         67.0   \n",
       "4   17.2                  97   68.0               7.87         68.0   \n",
       "\n",
       "    HIV/AIDS         GDP  Population   thinness  1-19 years  \\\n",
       "0        0.1  584.259210  33736494.0                   17.2   \n",
       "1        0.1  612.696514    327582.0                   17.5   \n",
       "2        0.1  631.744976  31731688.0                   17.7   \n",
       "3        0.1  669.959000   3696958.0                   17.9   \n",
       "4        0.1   63.537231   2978599.0                   18.2   \n",
       "\n",
       "    thinness 5-9 years  Income composition of resources  Schooling  \n",
       "0                 17.3                            0.479       10.1  \n",
       "1                 17.5                            0.476       10.0  \n",
       "2                 17.7                            0.470        9.9  \n",
       "3                 18.0                            0.463        9.8  \n",
       "4                 18.2                            0.454        9.5  "
      ]
     },
     "execution_count": 4,
     "metadata": {},
     "output_type": "execute_result"
    }
   ],
   "source": [
    "life_expectancy.head()"
   ]
  },
  {
   "cell_type": "code",
   "execution_count": 5,
   "metadata": {},
   "outputs": [],
   "source": [
    "life_expectancy['Status_1'] = np.NAN\n",
    "life_expectancy['Status_1'] = (life_expectancy['Status'] == 'Developed').astype(int)"
   ]
  },
  {
   "cell_type": "code",
   "execution_count": 6,
   "metadata": {},
   "outputs": [],
   "source": [
    "life_expectancy.drop('Status',axis = 1,inplace=True)\n",
    "life_expectancy.rename(columns= {'Country':'country','Diphtheria ':'diphtheria',' BMI ':'bmi','Hepatitis B':'hepB',' HIV/AIDS':'hiv_aids','Total expenditure':'total_expenditure','under-five deaths ':'deaths_U5','infant deaths':'infant_deaths','Adult Mortality':'adult_mortality','Status_1' : 'Status', 'Income composition of resources':'income_composition','Life expectancy ' : 'life_expectancy', 'percentage expenditure' : 'expenditure_%',' thinness  1-19 years' : 'thinness_1_19',' thinness 5-9 years' : 'thinness_5_9'},inplace=True)\n"
   ]
  },
  {
   "cell_type": "code",
   "execution_count": 7,
   "metadata": {},
   "outputs": [
    {
     "data": {
      "text/html": [
       "<div>\n",
       "<style scoped>\n",
       "    .dataframe tbody tr th:only-of-type {\n",
       "        vertical-align: middle;\n",
       "    }\n",
       "\n",
       "    .dataframe tbody tr th {\n",
       "        vertical-align: top;\n",
       "    }\n",
       "\n",
       "    .dataframe thead th {\n",
       "        text-align: right;\n",
       "    }\n",
       "</style>\n",
       "<table border=\"1\" class=\"dataframe\">\n",
       "  <thead>\n",
       "    <tr style=\"text-align: right;\">\n",
       "      <th></th>\n",
       "      <th>country</th>\n",
       "      <th>Year</th>\n",
       "      <th>life_expectancy</th>\n",
       "      <th>adult_mortality</th>\n",
       "      <th>infant_deaths</th>\n",
       "      <th>Alcohol</th>\n",
       "      <th>expenditure_%</th>\n",
       "      <th>hepB</th>\n",
       "      <th>Measles</th>\n",
       "      <th>bmi</th>\n",
       "      <th>deaths_U5</th>\n",
       "      <th>Polio</th>\n",
       "      <th>total_expenditure</th>\n",
       "      <th>diphtheria</th>\n",
       "      <th>hiv_aids</th>\n",
       "      <th>GDP</th>\n",
       "      <th>Population</th>\n",
       "      <th>thinness_1_19</th>\n",
       "      <th>thinness_5_9</th>\n",
       "      <th>income_composition</th>\n",
       "      <th>Schooling</th>\n",
       "      <th>Status</th>\n",
       "    </tr>\n",
       "  </thead>\n",
       "  <tbody>\n",
       "    <tr>\n",
       "      <th>0</th>\n",
       "      <td>Afghanistan</td>\n",
       "      <td>2015</td>\n",
       "      <td>65.0</td>\n",
       "      <td>263.0</td>\n",
       "      <td>62</td>\n",
       "      <td>0.01</td>\n",
       "      <td>71.279624</td>\n",
       "      <td>65.0</td>\n",
       "      <td>1154</td>\n",
       "      <td>19.1</td>\n",
       "      <td>83</td>\n",
       "      <td>6.0</td>\n",
       "      <td>8.16</td>\n",
       "      <td>65.0</td>\n",
       "      <td>0.1</td>\n",
       "      <td>584.259210</td>\n",
       "      <td>33736494.0</td>\n",
       "      <td>17.2</td>\n",
       "      <td>17.3</td>\n",
       "      <td>0.479</td>\n",
       "      <td>10.1</td>\n",
       "      <td>0</td>\n",
       "    </tr>\n",
       "    <tr>\n",
       "      <th>1</th>\n",
       "      <td>Afghanistan</td>\n",
       "      <td>2014</td>\n",
       "      <td>59.9</td>\n",
       "      <td>271.0</td>\n",
       "      <td>64</td>\n",
       "      <td>0.01</td>\n",
       "      <td>73.523582</td>\n",
       "      <td>62.0</td>\n",
       "      <td>492</td>\n",
       "      <td>18.6</td>\n",
       "      <td>86</td>\n",
       "      <td>58.0</td>\n",
       "      <td>8.18</td>\n",
       "      <td>62.0</td>\n",
       "      <td>0.1</td>\n",
       "      <td>612.696514</td>\n",
       "      <td>327582.0</td>\n",
       "      <td>17.5</td>\n",
       "      <td>17.5</td>\n",
       "      <td>0.476</td>\n",
       "      <td>10.0</td>\n",
       "      <td>0</td>\n",
       "    </tr>\n",
       "    <tr>\n",
       "      <th>2</th>\n",
       "      <td>Afghanistan</td>\n",
       "      <td>2013</td>\n",
       "      <td>59.9</td>\n",
       "      <td>268.0</td>\n",
       "      <td>66</td>\n",
       "      <td>0.01</td>\n",
       "      <td>73.219243</td>\n",
       "      <td>64.0</td>\n",
       "      <td>430</td>\n",
       "      <td>18.1</td>\n",
       "      <td>89</td>\n",
       "      <td>62.0</td>\n",
       "      <td>8.13</td>\n",
       "      <td>64.0</td>\n",
       "      <td>0.1</td>\n",
       "      <td>631.744976</td>\n",
       "      <td>31731688.0</td>\n",
       "      <td>17.7</td>\n",
       "      <td>17.7</td>\n",
       "      <td>0.470</td>\n",
       "      <td>9.9</td>\n",
       "      <td>0</td>\n",
       "    </tr>\n",
       "    <tr>\n",
       "      <th>3</th>\n",
       "      <td>Afghanistan</td>\n",
       "      <td>2012</td>\n",
       "      <td>59.5</td>\n",
       "      <td>272.0</td>\n",
       "      <td>69</td>\n",
       "      <td>0.01</td>\n",
       "      <td>78.184215</td>\n",
       "      <td>67.0</td>\n",
       "      <td>2787</td>\n",
       "      <td>17.6</td>\n",
       "      <td>93</td>\n",
       "      <td>67.0</td>\n",
       "      <td>8.52</td>\n",
       "      <td>67.0</td>\n",
       "      <td>0.1</td>\n",
       "      <td>669.959000</td>\n",
       "      <td>3696958.0</td>\n",
       "      <td>17.9</td>\n",
       "      <td>18.0</td>\n",
       "      <td>0.463</td>\n",
       "      <td>9.8</td>\n",
       "      <td>0</td>\n",
       "    </tr>\n",
       "    <tr>\n",
       "      <th>4</th>\n",
       "      <td>Afghanistan</td>\n",
       "      <td>2011</td>\n",
       "      <td>59.2</td>\n",
       "      <td>275.0</td>\n",
       "      <td>71</td>\n",
       "      <td>0.01</td>\n",
       "      <td>7.097109</td>\n",
       "      <td>68.0</td>\n",
       "      <td>3013</td>\n",
       "      <td>17.2</td>\n",
       "      <td>97</td>\n",
       "      <td>68.0</td>\n",
       "      <td>7.87</td>\n",
       "      <td>68.0</td>\n",
       "      <td>0.1</td>\n",
       "      <td>63.537231</td>\n",
       "      <td>2978599.0</td>\n",
       "      <td>18.2</td>\n",
       "      <td>18.2</td>\n",
       "      <td>0.454</td>\n",
       "      <td>9.5</td>\n",
       "      <td>0</td>\n",
       "    </tr>\n",
       "    <tr>\n",
       "      <th>...</th>\n",
       "      <td>...</td>\n",
       "      <td>...</td>\n",
       "      <td>...</td>\n",
       "      <td>...</td>\n",
       "      <td>...</td>\n",
       "      <td>...</td>\n",
       "      <td>...</td>\n",
       "      <td>...</td>\n",
       "      <td>...</td>\n",
       "      <td>...</td>\n",
       "      <td>...</td>\n",
       "      <td>...</td>\n",
       "      <td>...</td>\n",
       "      <td>...</td>\n",
       "      <td>...</td>\n",
       "      <td>...</td>\n",
       "      <td>...</td>\n",
       "      <td>...</td>\n",
       "      <td>...</td>\n",
       "      <td>...</td>\n",
       "      <td>...</td>\n",
       "      <td>...</td>\n",
       "    </tr>\n",
       "    <tr>\n",
       "      <th>2933</th>\n",
       "      <td>Zimbabwe</td>\n",
       "      <td>2004</td>\n",
       "      <td>44.3</td>\n",
       "      <td>723.0</td>\n",
       "      <td>27</td>\n",
       "      <td>4.36</td>\n",
       "      <td>0.000000</td>\n",
       "      <td>68.0</td>\n",
       "      <td>31</td>\n",
       "      <td>27.1</td>\n",
       "      <td>42</td>\n",
       "      <td>67.0</td>\n",
       "      <td>7.13</td>\n",
       "      <td>65.0</td>\n",
       "      <td>33.6</td>\n",
       "      <td>454.366654</td>\n",
       "      <td>12777511.0</td>\n",
       "      <td>9.4</td>\n",
       "      <td>9.4</td>\n",
       "      <td>0.407</td>\n",
       "      <td>9.2</td>\n",
       "      <td>0</td>\n",
       "    </tr>\n",
       "    <tr>\n",
       "      <th>2934</th>\n",
       "      <td>Zimbabwe</td>\n",
       "      <td>2003</td>\n",
       "      <td>44.5</td>\n",
       "      <td>715.0</td>\n",
       "      <td>26</td>\n",
       "      <td>4.06</td>\n",
       "      <td>0.000000</td>\n",
       "      <td>7.0</td>\n",
       "      <td>998</td>\n",
       "      <td>26.7</td>\n",
       "      <td>41</td>\n",
       "      <td>7.0</td>\n",
       "      <td>6.52</td>\n",
       "      <td>68.0</td>\n",
       "      <td>36.7</td>\n",
       "      <td>453.351155</td>\n",
       "      <td>12633897.0</td>\n",
       "      <td>9.8</td>\n",
       "      <td>9.9</td>\n",
       "      <td>0.418</td>\n",
       "      <td>9.5</td>\n",
       "      <td>0</td>\n",
       "    </tr>\n",
       "    <tr>\n",
       "      <th>2935</th>\n",
       "      <td>Zimbabwe</td>\n",
       "      <td>2002</td>\n",
       "      <td>44.8</td>\n",
       "      <td>73.0</td>\n",
       "      <td>25</td>\n",
       "      <td>4.43</td>\n",
       "      <td>0.000000</td>\n",
       "      <td>73.0</td>\n",
       "      <td>304</td>\n",
       "      <td>26.3</td>\n",
       "      <td>40</td>\n",
       "      <td>73.0</td>\n",
       "      <td>6.53</td>\n",
       "      <td>71.0</td>\n",
       "      <td>39.8</td>\n",
       "      <td>57.348340</td>\n",
       "      <td>125525.0</td>\n",
       "      <td>1.2</td>\n",
       "      <td>1.3</td>\n",
       "      <td>0.427</td>\n",
       "      <td>10.0</td>\n",
       "      <td>0</td>\n",
       "    </tr>\n",
       "    <tr>\n",
       "      <th>2936</th>\n",
       "      <td>Zimbabwe</td>\n",
       "      <td>2001</td>\n",
       "      <td>45.3</td>\n",
       "      <td>686.0</td>\n",
       "      <td>25</td>\n",
       "      <td>1.72</td>\n",
       "      <td>0.000000</td>\n",
       "      <td>76.0</td>\n",
       "      <td>529</td>\n",
       "      <td>25.9</td>\n",
       "      <td>39</td>\n",
       "      <td>76.0</td>\n",
       "      <td>6.16</td>\n",
       "      <td>75.0</td>\n",
       "      <td>42.1</td>\n",
       "      <td>548.587312</td>\n",
       "      <td>12366165.0</td>\n",
       "      <td>1.6</td>\n",
       "      <td>1.7</td>\n",
       "      <td>0.427</td>\n",
       "      <td>9.8</td>\n",
       "      <td>0</td>\n",
       "    </tr>\n",
       "    <tr>\n",
       "      <th>2937</th>\n",
       "      <td>Zimbabwe</td>\n",
       "      <td>2000</td>\n",
       "      <td>46.0</td>\n",
       "      <td>665.0</td>\n",
       "      <td>24</td>\n",
       "      <td>1.68</td>\n",
       "      <td>0.000000</td>\n",
       "      <td>79.0</td>\n",
       "      <td>1483</td>\n",
       "      <td>25.5</td>\n",
       "      <td>39</td>\n",
       "      <td>78.0</td>\n",
       "      <td>7.10</td>\n",
       "      <td>78.0</td>\n",
       "      <td>43.5</td>\n",
       "      <td>547.358879</td>\n",
       "      <td>12222251.0</td>\n",
       "      <td>11.0</td>\n",
       "      <td>11.2</td>\n",
       "      <td>0.434</td>\n",
       "      <td>9.8</td>\n",
       "      <td>0</td>\n",
       "    </tr>\n",
       "  </tbody>\n",
       "</table>\n",
       "<p>2938 rows × 22 columns</p>\n",
       "</div>"
      ],
      "text/plain": [
       "          country  Year  life_expectancy  adult_mortality  infant_deaths  \\\n",
       "0     Afghanistan  2015             65.0            263.0             62   \n",
       "1     Afghanistan  2014             59.9            271.0             64   \n",
       "2     Afghanistan  2013             59.9            268.0             66   \n",
       "3     Afghanistan  2012             59.5            272.0             69   \n",
       "4     Afghanistan  2011             59.2            275.0             71   \n",
       "...           ...   ...              ...              ...            ...   \n",
       "2933     Zimbabwe  2004             44.3            723.0             27   \n",
       "2934     Zimbabwe  2003             44.5            715.0             26   \n",
       "2935     Zimbabwe  2002             44.8             73.0             25   \n",
       "2936     Zimbabwe  2001             45.3            686.0             25   \n",
       "2937     Zimbabwe  2000             46.0            665.0             24   \n",
       "\n",
       "      Alcohol  expenditure_%  hepB  Measles    bmi  deaths_U5  Polio  \\\n",
       "0        0.01      71.279624  65.0      1154  19.1         83    6.0   \n",
       "1        0.01      73.523582  62.0       492  18.6         86   58.0   \n",
       "2        0.01      73.219243  64.0       430  18.1         89   62.0   \n",
       "3        0.01      78.184215  67.0      2787  17.6         93   67.0   \n",
       "4        0.01       7.097109  68.0      3013  17.2         97   68.0   \n",
       "...       ...            ...   ...       ...   ...        ...    ...   \n",
       "2933     4.36       0.000000  68.0        31  27.1         42   67.0   \n",
       "2934     4.06       0.000000   7.0       998  26.7         41    7.0   \n",
       "2935     4.43       0.000000  73.0       304  26.3         40   73.0   \n",
       "2936     1.72       0.000000  76.0       529  25.9         39   76.0   \n",
       "2937     1.68       0.000000  79.0      1483  25.5         39   78.0   \n",
       "\n",
       "      total_expenditure  diphtheria  hiv_aids         GDP  Population  \\\n",
       "0                  8.16        65.0       0.1  584.259210  33736494.0   \n",
       "1                  8.18        62.0       0.1  612.696514    327582.0   \n",
       "2                  8.13        64.0       0.1  631.744976  31731688.0   \n",
       "3                  8.52        67.0       0.1  669.959000   3696958.0   \n",
       "4                  7.87        68.0       0.1   63.537231   2978599.0   \n",
       "...                 ...         ...       ...         ...         ...   \n",
       "2933               7.13        65.0      33.6  454.366654  12777511.0   \n",
       "2934               6.52        68.0      36.7  453.351155  12633897.0   \n",
       "2935               6.53        71.0      39.8   57.348340    125525.0   \n",
       "2936               6.16        75.0      42.1  548.587312  12366165.0   \n",
       "2937               7.10        78.0      43.5  547.358879  12222251.0   \n",
       "\n",
       "      thinness_1_19  thinness_5_9  income_composition  Schooling  Status  \n",
       "0              17.2          17.3               0.479       10.1       0  \n",
       "1              17.5          17.5               0.476       10.0       0  \n",
       "2              17.7          17.7               0.470        9.9       0  \n",
       "3              17.9          18.0               0.463        9.8       0  \n",
       "4              18.2          18.2               0.454        9.5       0  \n",
       "...             ...           ...                 ...        ...     ...  \n",
       "2933            9.4           9.4               0.407        9.2       0  \n",
       "2934            9.8           9.9               0.418        9.5       0  \n",
       "2935            1.2           1.3               0.427       10.0       0  \n",
       "2936            1.6           1.7               0.427        9.8       0  \n",
       "2937           11.0          11.2               0.434        9.8       0  \n",
       "\n",
       "[2938 rows x 22 columns]"
      ]
     },
     "execution_count": 7,
     "metadata": {},
     "output_type": "execute_result"
    }
   ],
   "source": [
    "life_expectancy"
   ]
  },
  {
   "cell_type": "code",
   "execution_count": 8,
   "metadata": {},
   "outputs": [
    {
     "data": {
      "text/plain": [
       "Index(['country', 'Year', 'life_expectancy', 'adult_mortality',\n",
       "       'infant_deaths', 'Alcohol', 'expenditure_%', 'hepB', 'Measles ', 'bmi',\n",
       "       'deaths_U5', 'Polio', 'total_expenditure', 'diphtheria', 'hiv_aids',\n",
       "       'GDP', 'Population', 'thinness_1_19', 'thinness_5_9',\n",
       "       'income_composition', 'Schooling', 'Status'],\n",
       "      dtype='object')"
      ]
     },
     "execution_count": 8,
     "metadata": {},
     "output_type": "execute_result"
    }
   ],
   "source": [
    "life_expectancy.columns"
   ]
  },
  {
   "cell_type": "code",
   "execution_count": 9,
   "metadata": {},
   "outputs": [
    {
     "data": {
      "text/plain": [
       "country                 0\n",
       "Year                    0\n",
       "life_expectancy        10\n",
       "adult_mortality        10\n",
       "infant_deaths           0\n",
       "Alcohol               194\n",
       "expenditure_%           0\n",
       "hepB                  553\n",
       "Measles                 0\n",
       "bmi                    34\n",
       "deaths_U5               0\n",
       "Polio                  19\n",
       "total_expenditure     226\n",
       "diphtheria             19\n",
       "hiv_aids                0\n",
       "GDP                   448\n",
       "Population            652\n",
       "thinness_1_19          34\n",
       "thinness_5_9           34\n",
       "income_composition    167\n",
       "Schooling             163\n",
       "Status                  0\n",
       "dtype: int64"
      ]
     },
     "execution_count": 9,
     "metadata": {},
     "output_type": "execute_result"
    }
   ],
   "source": [
    "life_expectancy.isna().sum()"
   ]
  },
  {
   "cell_type": "code",
   "execution_count": 10,
   "metadata": {},
   "outputs": [],
   "source": [
    "life_expectancy.life_expectancy.fillna(life_expectancy.life_expectancy.mean(),inplace=True)\n",
    "life_expectancy.adult_mortality.fillna(life_expectancy.adult_mortality.mean(),inplace=True)\n",
    "life_expectancy.Alcohol.fillna(life_expectancy.Alcohol.mean(),inplace=True)\n",
    "life_expectancy.hepB.fillna(life_expectancy.hepB.mean(),inplace= True)\n",
    "life_expectancy.bmi.fillna(life_expectancy.bmi.mean(),inplace=True)\n",
    "life_expectancy.Polio.fillna(life_expectancy.Polio.mean(),inplace=True)\n",
    "life_expectancy.total_expenditure.fillna(life_expectancy.total_expenditure.mean(),inplace=True)\n",
    "life_expectancy.diphtheria.fillna(life_expectancy.bmi.mean(),inplace=True)\n",
    "life_expectancy.GDP.fillna(life_expectancy.GDP.mean(),inplace=True)\n",
    "life_expectancy.Population.fillna(life_expectancy.Population.mean(),inplace=True)\n",
    "life_expectancy.thinness_1_19.fillna(life_expectancy.thinness_1_19.mean(),inplace=True)\n",
    "life_expectancy.thinness_5_9.fillna(life_expectancy.thinness_5_9.mean(),inplace=True)\n",
    "life_expectancy.income_composition.fillna(life_expectancy.income_composition.mean(),inplace=True)\n",
    "life_expectancy.Schooling.fillna(life_expectancy.Schooling.mean(),inplace=True)"
   ]
  },
  {
   "cell_type": "code",
   "execution_count": 11,
   "metadata": {},
   "outputs": [
    {
     "data": {
      "text/plain": [
       "country               0\n",
       "Year                  0\n",
       "life_expectancy       0\n",
       "adult_mortality       0\n",
       "infant_deaths         0\n",
       "Alcohol               0\n",
       "expenditure_%         0\n",
       "hepB                  0\n",
       "Measles               0\n",
       "bmi                   0\n",
       "deaths_U5             0\n",
       "Polio                 0\n",
       "total_expenditure     0\n",
       "diphtheria            0\n",
       "hiv_aids              0\n",
       "GDP                   0\n",
       "Population            0\n",
       "thinness_1_19         0\n",
       "thinness_5_9          0\n",
       "income_composition    0\n",
       "Schooling             0\n",
       "Status                0\n",
       "dtype: int64"
      ]
     },
     "execution_count": 11,
     "metadata": {},
     "output_type": "execute_result"
    }
   ],
   "source": [
    "life_expectancy.isna().sum()"
   ]
  },
  {
   "cell_type": "code",
   "execution_count": 12,
   "metadata": {},
   "outputs": [
    {
     "data": {
      "text/html": [
       "<div>\n",
       "<style scoped>\n",
       "    .dataframe tbody tr th:only-of-type {\n",
       "        vertical-align: middle;\n",
       "    }\n",
       "\n",
       "    .dataframe tbody tr th {\n",
       "        vertical-align: top;\n",
       "    }\n",
       "\n",
       "    .dataframe thead th {\n",
       "        text-align: right;\n",
       "    }\n",
       "</style>\n",
       "<table border=\"1\" class=\"dataframe\">\n",
       "  <thead>\n",
       "    <tr style=\"text-align: right;\">\n",
       "      <th></th>\n",
       "      <th>country</th>\n",
       "      <th>Year</th>\n",
       "      <th>life_expectancy</th>\n",
       "      <th>adult_mortality</th>\n",
       "      <th>infant_deaths</th>\n",
       "      <th>Alcohol</th>\n",
       "      <th>expenditure_%</th>\n",
       "      <th>hepB</th>\n",
       "      <th>Measles</th>\n",
       "      <th>bmi</th>\n",
       "      <th>deaths_U5</th>\n",
       "      <th>Polio</th>\n",
       "      <th>total_expenditure</th>\n",
       "      <th>diphtheria</th>\n",
       "      <th>hiv_aids</th>\n",
       "      <th>GDP</th>\n",
       "      <th>Population</th>\n",
       "      <th>thinness_1_19</th>\n",
       "      <th>thinness_5_9</th>\n",
       "      <th>income_composition</th>\n",
       "      <th>Schooling</th>\n",
       "      <th>Status</th>\n",
       "    </tr>\n",
       "  </thead>\n",
       "  <tbody>\n",
       "  </tbody>\n",
       "</table>\n",
       "</div>"
      ],
      "text/plain": [
       "Empty DataFrame\n",
       "Columns: [country, Year, life_expectancy, adult_mortality, infant_deaths, Alcohol, expenditure_%, hepB, Measles , bmi, deaths_U5, Polio, total_expenditure, diphtheria, hiv_aids, GDP, Population, thinness_1_19, thinness_5_9, income_composition, Schooling, Status]\n",
       "Index: []"
      ]
     },
     "execution_count": 12,
     "metadata": {},
     "output_type": "execute_result"
    }
   ],
   "source": [
    "life_expectancy[life_expectancy.duplicated()]"
   ]
  },
  {
   "cell_type": "code",
   "execution_count": 13,
   "metadata": {},
   "outputs": [],
   "source": [
    "life_expectancy = life_expectancy.merge(coordinates.loc[:,'country_code' : 'country'], how='left', on='country')"
   ]
  },
  {
   "cell_type": "code",
   "execution_count": 14,
   "metadata": {},
   "outputs": [],
   "source": [
    "URL = \"https://en.wikipedia.org/wiki/Tobacco_consumption_by_country\"\n",
    "page = requests.get(URL)\n",
    "\n",
    "soup = BeautifulSoup(page.text, \"html.parser\")\n",
    "\n",
    "table = soup.find_all('table')[1]#.find_all('td')#.find_all('a')[0].string\n",
    "\n",
    "final_data = []\n",
    "for a in table.find_all('tbody'):\n",
    "    rows = a.find_all('td')\n",
    "    for row in rows:\n",
    "        final_data.append(row.text.strip().strip('*'))\n",
    "        \n",
    "countries = []\n",
    "cigarettes = []\n",
    "\n",
    "countries.append(final_data[::2])\n",
    "cigarettes.append(final_data[1::2])\n",
    "cigarettes = cigarettes[0]\n",
    "countries = countries[0]\n",
    "\n",
    "countries_ = []\n",
    "cigarettes_ = []\n",
    "for a in countries:\n",
    "    countries_.append(a.encode(\"ascii\", \"ignore\").decode())\n",
    "for a in cigarettes:\n",
    "    cigarettes_.append(a.encode(\"ascii\", \"ignore\").decode())\n",
    "    \n",
    "countries = countries_.copy()\n",
    "cigarettes = cigarettes_.copy()\n",
    "\n",
    "del(countries_)\n",
    "del(cigarettes_)\n",
    "\n",
    "for a in range(len(cigarettes)):\n",
    "    cigarettes[a] = float(cigarettes[a].replace(',',''))\n",
    "\n",
    "data_tuples = list(zip(countries,cigarettes))\n",
    "\n",
    "pd.DataFrame(data_tuples,columns=['country','Cigarettes_per_day']).set_index('country').to_csv('cigarettes.csv')        "
   ]
  },
  {
   "cell_type": "code",
   "execution_count": 15,
   "metadata": {},
   "outputs": [],
   "source": [
    "URL = \"https://www.numbeo.com/crime/rankings_by_country.jsp\"\n",
    "page = requests.get(URL)\n",
    "\n",
    "soup = BeautifulSoup(page.text, \"html.parser\")\n",
    "\n",
    "table = soup.find_all('table')[1]#.find_all('td')#.find_all('a')[0].string\n",
    "\n",
    "final_data = []\n",
    "for a in table.find_all('tbody'):\n",
    "    rows = a.find_all('td')\n",
    "    for row in rows:\n",
    "        final_data.append(row.text.strip().strip('*'))\n",
    "        \n",
    "final_data = [ele for ele in final_data if ele.strip()]\n",
    "\n",
    "Countries = final_data[::3]\n",
    "crime_index = final_data[1::3]\n",
    "safety_index = final_data[2::3]\n",
    "\n",
    "crime_index = list(map(float, crime_index))\n",
    "safety_index = list(map(float, safety_index))\n",
    "data_tuples = list(zip(Countries,crime_index,safety_index))\n",
    "\n",
    "pd.DataFrame(data_tuples, columns=['country','Crime_Index','Safety_Index']).set_index('country').to_csv('crime_safety_index.csv')"
   ]
  },
  {
   "cell_type": "code",
   "execution_count": 16,
   "metadata": {},
   "outputs": [],
   "source": [
    "cigar_df = pd.read_csv('cigarettes.csv')\n",
    "crime_safety = pd.read_csv('crime_safety_index.csv')"
   ]
  },
  {
   "cell_type": "code",
   "execution_count": 17,
   "metadata": {},
   "outputs": [],
   "source": [
    "cigar_df.country.replace('Bolivia','Bolivia (Plurinational State of)',inplace=True)\n",
    "cigar_df.country.replace('South Korea','Republic of Korea',inplace=True)\n",
    "cigar_df.country.replace('Moldova','Republic of Moldova',inplace=True)\n",
    "cigar_df.country.replace('Russia','Russian Federation',inplace=True)\n",
    "cigar_df.country.replace('Syria','Syrian Arab Republic',inplace=True)\n",
    "cigar_df.country.replace('North Macedonia','The former Yugoslav republic of Macedonia',inplace=True)\n",
    "cigar_df.country.replace('United Kingdom','United Kingdom of Great Britain and Northern Ireland',inplace=True)\n",
    "cigar_df.country.replace('Tanzania','United Republic of Tanzania',inplace=True)\n",
    "cigar_df.country.replace('United States','United States of America',inplace=True)\n",
    "cigar_df.country.replace('Venezuela','Venezuela (Bolivarian Republic of)',inplace=True)\n",
    "crime_safety.country.replace('Bolivia','Bolivia (Plurinational State of)',inplace=True)\n",
    "crime_safety.country.replace('South Korea','Republic of Korea',inplace=True)\n",
    "crime_safety.country.replace('Moldova','Republic of Moldova',inplace=True)\n",
    "crime_safety.country.replace('Russia','Russian Federation',inplace=True)\n",
    "crime_safety.country.replace('Syria','Syrian Arab Republic',inplace=True)\n",
    "crime_safety.country.replace('North Macedonia','The former Yugoslav republic of Macedonia',inplace=True)\n",
    "crime_safety.country.replace('United Kingdom','United Kingdom of Great Britain and Northern Ireland',inplace=True)\n",
    "crime_safety.country.replace('Tanzania','United Republic of Tanzania',inplace=True)\n",
    "crime_safety.country.replace('United States','United States of America',inplace=True)\n",
    "crime_safety.country.replace('Venezuela','Venezuela (Bolivarian Republic of)',inplace=True)\n",
    "crime_safety.country.replace('Iran','Iran (Islamic Republic of)',inplace=True)\n",
    "life_expectancy.country.replace('Viet Nam','Vietnam',inplace = True)"
   ]
  },
  {
   "cell_type": "code",
   "execution_count": 18,
   "metadata": {},
   "outputs": [],
   "source": [
    "life_expectancy = life_expectancy.merge(cigar_df,on='country',how='left')\n",
    "life_expectancy = life_expectancy.merge(crime_safety, on='country', how = 'left' )"
   ]
  },
  {
   "cell_type": "code",
   "execution_count": 19,
   "metadata": {
    "scrolled": true
   },
   "outputs": [
    {
     "data": {
      "text/html": [
       "<div>\n",
       "<style scoped>\n",
       "    .dataframe tbody tr th:only-of-type {\n",
       "        vertical-align: middle;\n",
       "    }\n",
       "\n",
       "    .dataframe tbody tr th {\n",
       "        vertical-align: top;\n",
       "    }\n",
       "\n",
       "    .dataframe thead th {\n",
       "        text-align: right;\n",
       "    }\n",
       "</style>\n",
       "<table border=\"1\" class=\"dataframe\">\n",
       "  <thead>\n",
       "    <tr style=\"text-align: right;\">\n",
       "      <th></th>\n",
       "      <th>country</th>\n",
       "      <th>Year</th>\n",
       "      <th>life_expectancy</th>\n",
       "      <th>adult_mortality</th>\n",
       "      <th>infant_deaths</th>\n",
       "      <th>Alcohol</th>\n",
       "      <th>expenditure_%</th>\n",
       "      <th>hepB</th>\n",
       "      <th>Measles</th>\n",
       "      <th>bmi</th>\n",
       "      <th>deaths_U5</th>\n",
       "      <th>Polio</th>\n",
       "      <th>total_expenditure</th>\n",
       "      <th>diphtheria</th>\n",
       "      <th>hiv_aids</th>\n",
       "      <th>GDP</th>\n",
       "      <th>Population</th>\n",
       "      <th>thinness_1_19</th>\n",
       "      <th>thinness_5_9</th>\n",
       "      <th>income_composition</th>\n",
       "      <th>Schooling</th>\n",
       "      <th>Status</th>\n",
       "      <th>country_code</th>\n",
       "      <th>latitude</th>\n",
       "      <th>longitude</th>\n",
       "      <th>Cigarettes_per_day</th>\n",
       "      <th>Crime_Index</th>\n",
       "      <th>Safety_Index</th>\n",
       "    </tr>\n",
       "  </thead>\n",
       "  <tbody>\n",
       "    <tr>\n",
       "      <th>0</th>\n",
       "      <td>Afghanistan</td>\n",
       "      <td>2015</td>\n",
       "      <td>65.0</td>\n",
       "      <td>263.0</td>\n",
       "      <td>62</td>\n",
       "      <td>0.01</td>\n",
       "      <td>71.279624</td>\n",
       "      <td>65.0</td>\n",
       "      <td>1154</td>\n",
       "      <td>19.1</td>\n",
       "      <td>83</td>\n",
       "      <td>6.0</td>\n",
       "      <td>8.16</td>\n",
       "      <td>65.0</td>\n",
       "      <td>0.1</td>\n",
       "      <td>584.259210</td>\n",
       "      <td>33736494.0</td>\n",
       "      <td>17.2</td>\n",
       "      <td>17.3</td>\n",
       "      <td>0.479</td>\n",
       "      <td>10.1</td>\n",
       "      <td>0</td>\n",
       "      <td>AF</td>\n",
       "      <td>33.939110</td>\n",
       "      <td>67.709953</td>\n",
       "      <td>311.6</td>\n",
       "      <td>76.31</td>\n",
       "      <td>23.69</td>\n",
       "    </tr>\n",
       "    <tr>\n",
       "      <th>1</th>\n",
       "      <td>Afghanistan</td>\n",
       "      <td>2014</td>\n",
       "      <td>59.9</td>\n",
       "      <td>271.0</td>\n",
       "      <td>64</td>\n",
       "      <td>0.01</td>\n",
       "      <td>73.523582</td>\n",
       "      <td>62.0</td>\n",
       "      <td>492</td>\n",
       "      <td>18.6</td>\n",
       "      <td>86</td>\n",
       "      <td>58.0</td>\n",
       "      <td>8.18</td>\n",
       "      <td>62.0</td>\n",
       "      <td>0.1</td>\n",
       "      <td>612.696514</td>\n",
       "      <td>327582.0</td>\n",
       "      <td>17.5</td>\n",
       "      <td>17.5</td>\n",
       "      <td>0.476</td>\n",
       "      <td>10.0</td>\n",
       "      <td>0</td>\n",
       "      <td>AF</td>\n",
       "      <td>33.939110</td>\n",
       "      <td>67.709953</td>\n",
       "      <td>311.6</td>\n",
       "      <td>76.31</td>\n",
       "      <td>23.69</td>\n",
       "    </tr>\n",
       "    <tr>\n",
       "      <th>2</th>\n",
       "      <td>Afghanistan</td>\n",
       "      <td>2013</td>\n",
       "      <td>59.9</td>\n",
       "      <td>268.0</td>\n",
       "      <td>66</td>\n",
       "      <td>0.01</td>\n",
       "      <td>73.219243</td>\n",
       "      <td>64.0</td>\n",
       "      <td>430</td>\n",
       "      <td>18.1</td>\n",
       "      <td>89</td>\n",
       "      <td>62.0</td>\n",
       "      <td>8.13</td>\n",
       "      <td>64.0</td>\n",
       "      <td>0.1</td>\n",
       "      <td>631.744976</td>\n",
       "      <td>31731688.0</td>\n",
       "      <td>17.7</td>\n",
       "      <td>17.7</td>\n",
       "      <td>0.470</td>\n",
       "      <td>9.9</td>\n",
       "      <td>0</td>\n",
       "      <td>AF</td>\n",
       "      <td>33.939110</td>\n",
       "      <td>67.709953</td>\n",
       "      <td>311.6</td>\n",
       "      <td>76.31</td>\n",
       "      <td>23.69</td>\n",
       "    </tr>\n",
       "    <tr>\n",
       "      <th>3</th>\n",
       "      <td>Afghanistan</td>\n",
       "      <td>2012</td>\n",
       "      <td>59.5</td>\n",
       "      <td>272.0</td>\n",
       "      <td>69</td>\n",
       "      <td>0.01</td>\n",
       "      <td>78.184215</td>\n",
       "      <td>67.0</td>\n",
       "      <td>2787</td>\n",
       "      <td>17.6</td>\n",
       "      <td>93</td>\n",
       "      <td>67.0</td>\n",
       "      <td>8.52</td>\n",
       "      <td>67.0</td>\n",
       "      <td>0.1</td>\n",
       "      <td>669.959000</td>\n",
       "      <td>3696958.0</td>\n",
       "      <td>17.9</td>\n",
       "      <td>18.0</td>\n",
       "      <td>0.463</td>\n",
       "      <td>9.8</td>\n",
       "      <td>0</td>\n",
       "      <td>AF</td>\n",
       "      <td>33.939110</td>\n",
       "      <td>67.709953</td>\n",
       "      <td>311.6</td>\n",
       "      <td>76.31</td>\n",
       "      <td>23.69</td>\n",
       "    </tr>\n",
       "    <tr>\n",
       "      <th>4</th>\n",
       "      <td>Afghanistan</td>\n",
       "      <td>2011</td>\n",
       "      <td>59.2</td>\n",
       "      <td>275.0</td>\n",
       "      <td>71</td>\n",
       "      <td>0.01</td>\n",
       "      <td>7.097109</td>\n",
       "      <td>68.0</td>\n",
       "      <td>3013</td>\n",
       "      <td>17.2</td>\n",
       "      <td>97</td>\n",
       "      <td>68.0</td>\n",
       "      <td>7.87</td>\n",
       "      <td>68.0</td>\n",
       "      <td>0.1</td>\n",
       "      <td>63.537231</td>\n",
       "      <td>2978599.0</td>\n",
       "      <td>18.2</td>\n",
       "      <td>18.2</td>\n",
       "      <td>0.454</td>\n",
       "      <td>9.5</td>\n",
       "      <td>0</td>\n",
       "      <td>AF</td>\n",
       "      <td>33.939110</td>\n",
       "      <td>67.709953</td>\n",
       "      <td>311.6</td>\n",
       "      <td>76.31</td>\n",
       "      <td>23.69</td>\n",
       "    </tr>\n",
       "    <tr>\n",
       "      <th>...</th>\n",
       "      <td>...</td>\n",
       "      <td>...</td>\n",
       "      <td>...</td>\n",
       "      <td>...</td>\n",
       "      <td>...</td>\n",
       "      <td>...</td>\n",
       "      <td>...</td>\n",
       "      <td>...</td>\n",
       "      <td>...</td>\n",
       "      <td>...</td>\n",
       "      <td>...</td>\n",
       "      <td>...</td>\n",
       "      <td>...</td>\n",
       "      <td>...</td>\n",
       "      <td>...</td>\n",
       "      <td>...</td>\n",
       "      <td>...</td>\n",
       "      <td>...</td>\n",
       "      <td>...</td>\n",
       "      <td>...</td>\n",
       "      <td>...</td>\n",
       "      <td>...</td>\n",
       "      <td>...</td>\n",
       "      <td>...</td>\n",
       "      <td>...</td>\n",
       "      <td>...</td>\n",
       "      <td>...</td>\n",
       "      <td>...</td>\n",
       "    </tr>\n",
       "    <tr>\n",
       "      <th>2933</th>\n",
       "      <td>Zimbabwe</td>\n",
       "      <td>2004</td>\n",
       "      <td>44.3</td>\n",
       "      <td>723.0</td>\n",
       "      <td>27</td>\n",
       "      <td>4.36</td>\n",
       "      <td>0.000000</td>\n",
       "      <td>68.0</td>\n",
       "      <td>31</td>\n",
       "      <td>27.1</td>\n",
       "      <td>42</td>\n",
       "      <td>67.0</td>\n",
       "      <td>7.13</td>\n",
       "      <td>65.0</td>\n",
       "      <td>33.6</td>\n",
       "      <td>454.366654</td>\n",
       "      <td>12777511.0</td>\n",
       "      <td>9.4</td>\n",
       "      <td>9.4</td>\n",
       "      <td>0.407</td>\n",
       "      <td>9.2</td>\n",
       "      <td>0</td>\n",
       "      <td>ZW</td>\n",
       "      <td>-19.015438</td>\n",
       "      <td>29.154857</td>\n",
       "      <td>122.9</td>\n",
       "      <td>59.30</td>\n",
       "      <td>40.70</td>\n",
       "    </tr>\n",
       "    <tr>\n",
       "      <th>2934</th>\n",
       "      <td>Zimbabwe</td>\n",
       "      <td>2003</td>\n",
       "      <td>44.5</td>\n",
       "      <td>715.0</td>\n",
       "      <td>26</td>\n",
       "      <td>4.06</td>\n",
       "      <td>0.000000</td>\n",
       "      <td>7.0</td>\n",
       "      <td>998</td>\n",
       "      <td>26.7</td>\n",
       "      <td>41</td>\n",
       "      <td>7.0</td>\n",
       "      <td>6.52</td>\n",
       "      <td>68.0</td>\n",
       "      <td>36.7</td>\n",
       "      <td>453.351155</td>\n",
       "      <td>12633897.0</td>\n",
       "      <td>9.8</td>\n",
       "      <td>9.9</td>\n",
       "      <td>0.418</td>\n",
       "      <td>9.5</td>\n",
       "      <td>0</td>\n",
       "      <td>ZW</td>\n",
       "      <td>-19.015438</td>\n",
       "      <td>29.154857</td>\n",
       "      <td>122.9</td>\n",
       "      <td>59.30</td>\n",
       "      <td>40.70</td>\n",
       "    </tr>\n",
       "    <tr>\n",
       "      <th>2935</th>\n",
       "      <td>Zimbabwe</td>\n",
       "      <td>2002</td>\n",
       "      <td>44.8</td>\n",
       "      <td>73.0</td>\n",
       "      <td>25</td>\n",
       "      <td>4.43</td>\n",
       "      <td>0.000000</td>\n",
       "      <td>73.0</td>\n",
       "      <td>304</td>\n",
       "      <td>26.3</td>\n",
       "      <td>40</td>\n",
       "      <td>73.0</td>\n",
       "      <td>6.53</td>\n",
       "      <td>71.0</td>\n",
       "      <td>39.8</td>\n",
       "      <td>57.348340</td>\n",
       "      <td>125525.0</td>\n",
       "      <td>1.2</td>\n",
       "      <td>1.3</td>\n",
       "      <td>0.427</td>\n",
       "      <td>10.0</td>\n",
       "      <td>0</td>\n",
       "      <td>ZW</td>\n",
       "      <td>-19.015438</td>\n",
       "      <td>29.154857</td>\n",
       "      <td>122.9</td>\n",
       "      <td>59.30</td>\n",
       "      <td>40.70</td>\n",
       "    </tr>\n",
       "    <tr>\n",
       "      <th>2936</th>\n",
       "      <td>Zimbabwe</td>\n",
       "      <td>2001</td>\n",
       "      <td>45.3</td>\n",
       "      <td>686.0</td>\n",
       "      <td>25</td>\n",
       "      <td>1.72</td>\n",
       "      <td>0.000000</td>\n",
       "      <td>76.0</td>\n",
       "      <td>529</td>\n",
       "      <td>25.9</td>\n",
       "      <td>39</td>\n",
       "      <td>76.0</td>\n",
       "      <td>6.16</td>\n",
       "      <td>75.0</td>\n",
       "      <td>42.1</td>\n",
       "      <td>548.587312</td>\n",
       "      <td>12366165.0</td>\n",
       "      <td>1.6</td>\n",
       "      <td>1.7</td>\n",
       "      <td>0.427</td>\n",
       "      <td>9.8</td>\n",
       "      <td>0</td>\n",
       "      <td>ZW</td>\n",
       "      <td>-19.015438</td>\n",
       "      <td>29.154857</td>\n",
       "      <td>122.9</td>\n",
       "      <td>59.30</td>\n",
       "      <td>40.70</td>\n",
       "    </tr>\n",
       "    <tr>\n",
       "      <th>2937</th>\n",
       "      <td>Zimbabwe</td>\n",
       "      <td>2000</td>\n",
       "      <td>46.0</td>\n",
       "      <td>665.0</td>\n",
       "      <td>24</td>\n",
       "      <td>1.68</td>\n",
       "      <td>0.000000</td>\n",
       "      <td>79.0</td>\n",
       "      <td>1483</td>\n",
       "      <td>25.5</td>\n",
       "      <td>39</td>\n",
       "      <td>78.0</td>\n",
       "      <td>7.10</td>\n",
       "      <td>78.0</td>\n",
       "      <td>43.5</td>\n",
       "      <td>547.358879</td>\n",
       "      <td>12222251.0</td>\n",
       "      <td>11.0</td>\n",
       "      <td>11.2</td>\n",
       "      <td>0.434</td>\n",
       "      <td>9.8</td>\n",
       "      <td>0</td>\n",
       "      <td>ZW</td>\n",
       "      <td>-19.015438</td>\n",
       "      <td>29.154857</td>\n",
       "      <td>122.9</td>\n",
       "      <td>59.30</td>\n",
       "      <td>40.70</td>\n",
       "    </tr>\n",
       "  </tbody>\n",
       "</table>\n",
       "<p>2938 rows × 28 columns</p>\n",
       "</div>"
      ],
      "text/plain": [
       "          country  Year  life_expectancy  adult_mortality  infant_deaths  \\\n",
       "0     Afghanistan  2015             65.0            263.0             62   \n",
       "1     Afghanistan  2014             59.9            271.0             64   \n",
       "2     Afghanistan  2013             59.9            268.0             66   \n",
       "3     Afghanistan  2012             59.5            272.0             69   \n",
       "4     Afghanistan  2011             59.2            275.0             71   \n",
       "...           ...   ...              ...              ...            ...   \n",
       "2933     Zimbabwe  2004             44.3            723.0             27   \n",
       "2934     Zimbabwe  2003             44.5            715.0             26   \n",
       "2935     Zimbabwe  2002             44.8             73.0             25   \n",
       "2936     Zimbabwe  2001             45.3            686.0             25   \n",
       "2937     Zimbabwe  2000             46.0            665.0             24   \n",
       "\n",
       "      Alcohol  expenditure_%  hepB  Measles    bmi  deaths_U5  Polio  \\\n",
       "0        0.01      71.279624  65.0      1154  19.1         83    6.0   \n",
       "1        0.01      73.523582  62.0       492  18.6         86   58.0   \n",
       "2        0.01      73.219243  64.0       430  18.1         89   62.0   \n",
       "3        0.01      78.184215  67.0      2787  17.6         93   67.0   \n",
       "4        0.01       7.097109  68.0      3013  17.2         97   68.0   \n",
       "...       ...            ...   ...       ...   ...        ...    ...   \n",
       "2933     4.36       0.000000  68.0        31  27.1         42   67.0   \n",
       "2934     4.06       0.000000   7.0       998  26.7         41    7.0   \n",
       "2935     4.43       0.000000  73.0       304  26.3         40   73.0   \n",
       "2936     1.72       0.000000  76.0       529  25.9         39   76.0   \n",
       "2937     1.68       0.000000  79.0      1483  25.5         39   78.0   \n",
       "\n",
       "      total_expenditure  diphtheria  hiv_aids         GDP  Population  \\\n",
       "0                  8.16        65.0       0.1  584.259210  33736494.0   \n",
       "1                  8.18        62.0       0.1  612.696514    327582.0   \n",
       "2                  8.13        64.0       0.1  631.744976  31731688.0   \n",
       "3                  8.52        67.0       0.1  669.959000   3696958.0   \n",
       "4                  7.87        68.0       0.1   63.537231   2978599.0   \n",
       "...                 ...         ...       ...         ...         ...   \n",
       "2933               7.13        65.0      33.6  454.366654  12777511.0   \n",
       "2934               6.52        68.0      36.7  453.351155  12633897.0   \n",
       "2935               6.53        71.0      39.8   57.348340    125525.0   \n",
       "2936               6.16        75.0      42.1  548.587312  12366165.0   \n",
       "2937               7.10        78.0      43.5  547.358879  12222251.0   \n",
       "\n",
       "      thinness_1_19  thinness_5_9  income_composition  Schooling  Status  \\\n",
       "0              17.2          17.3               0.479       10.1       0   \n",
       "1              17.5          17.5               0.476       10.0       0   \n",
       "2              17.7          17.7               0.470        9.9       0   \n",
       "3              17.9          18.0               0.463        9.8       0   \n",
       "4              18.2          18.2               0.454        9.5       0   \n",
       "...             ...           ...                 ...        ...     ...   \n",
       "2933            9.4           9.4               0.407        9.2       0   \n",
       "2934            9.8           9.9               0.418        9.5       0   \n",
       "2935            1.2           1.3               0.427       10.0       0   \n",
       "2936            1.6           1.7               0.427        9.8       0   \n",
       "2937           11.0          11.2               0.434        9.8       0   \n",
       "\n",
       "     country_code   latitude  longitude  Cigarettes_per_day  Crime_Index  \\\n",
       "0              AF  33.939110  67.709953               311.6        76.31   \n",
       "1              AF  33.939110  67.709953               311.6        76.31   \n",
       "2              AF  33.939110  67.709953               311.6        76.31   \n",
       "3              AF  33.939110  67.709953               311.6        76.31   \n",
       "4              AF  33.939110  67.709953               311.6        76.31   \n",
       "...           ...        ...        ...                 ...          ...   \n",
       "2933           ZW -19.015438  29.154857               122.9        59.30   \n",
       "2934           ZW -19.015438  29.154857               122.9        59.30   \n",
       "2935           ZW -19.015438  29.154857               122.9        59.30   \n",
       "2936           ZW -19.015438  29.154857               122.9        59.30   \n",
       "2937           ZW -19.015438  29.154857               122.9        59.30   \n",
       "\n",
       "      Safety_Index  \n",
       "0            23.69  \n",
       "1            23.69  \n",
       "2            23.69  \n",
       "3            23.69  \n",
       "4            23.69  \n",
       "...            ...  \n",
       "2933         40.70  \n",
       "2934         40.70  \n",
       "2935         40.70  \n",
       "2936         40.70  \n",
       "2937         40.70  \n",
       "\n",
       "[2938 rows x 28 columns]"
      ]
     },
     "execution_count": 19,
     "metadata": {},
     "output_type": "execute_result"
    }
   ],
   "source": [
    "life_expectancy"
   ]
  },
  {
   "cell_type": "code",
   "execution_count": 20,
   "metadata": {
    "scrolled": true
   },
   "outputs": [],
   "source": [
    "life_expectancy.Crime_Index.fillna(life_expectancy.Crime_Index.mean(),inplace=True)\n",
    "life_expectancy.Safety_Index.fillna(life_expectancy.Safety_Index.mean(),inplace=True)"
   ]
  },
  {
   "cell_type": "code",
   "execution_count": 21,
   "metadata": {},
   "outputs": [
    {
     "data": {
      "text/plain": [
       "193"
      ]
     },
     "execution_count": 21,
     "metadata": {},
     "output_type": "execute_result"
    }
   ],
   "source": [
    "life_expectancy.country.nunique()"
   ]
  },
  {
   "cell_type": "markdown",
   "metadata": {},
   "source": [
    "### Clean and merge Depression dataset"
   ]
  },
  {
   "cell_type": "code",
   "execution_count": 22,
   "metadata": {},
   "outputs": [],
   "source": [
    "depression_df = pd.read_csv('number-with-depression-by-country.csv')"
   ]
  },
  {
   "cell_type": "code",
   "execution_count": 23,
   "metadata": {},
   "outputs": [],
   "source": [
    "# drop the rows whose timeline were not between 2000-2015\n",
    "depression_df.drop(depression_df.Year[(depression_df.Year < 2000) | (depression_df.Year > 2015)].index, inplace=True)"
   ]
  },
  {
   "cell_type": "code",
   "execution_count": 24,
   "metadata": {},
   "outputs": [],
   "source": [
    "# Rename the columns\n",
    "depression_df.rename(columns = {'Number':'Depression_Population'}, inplace = True)"
   ]
  },
  {
   "cell_type": "code",
   "execution_count": 25,
   "metadata": {},
   "outputs": [],
   "source": [
    "# Convert the population into integer(calculated by growth rate each year)\n",
    "depression_df['Depression_Population'] = depression_df['Depression_Population'].astype(int)"
   ]
  },
  {
   "cell_type": "code",
   "execution_count": 26,
   "metadata": {
    "scrolled": true
   },
   "outputs": [
    {
     "data": {
      "text/html": [
       "<div>\n",
       "<style scoped>\n",
       "    .dataframe tbody tr th:only-of-type {\n",
       "        vertical-align: middle;\n",
       "    }\n",
       "\n",
       "    .dataframe tbody tr th {\n",
       "        vertical-align: top;\n",
       "    }\n",
       "\n",
       "    .dataframe thead th {\n",
       "        text-align: right;\n",
       "    }\n",
       "</style>\n",
       "<table border=\"1\" class=\"dataframe\">\n",
       "  <thead>\n",
       "    <tr style=\"text-align: right;\">\n",
       "      <th></th>\n",
       "      <th>country</th>\n",
       "      <th>Year</th>\n",
       "      <th>Depression_Population</th>\n",
       "    </tr>\n",
       "  </thead>\n",
       "  <tbody>\n",
       "    <tr>\n",
       "      <th>10</th>\n",
       "      <td>Afghanistan</td>\n",
       "      <td>2000</td>\n",
       "      <td>501129</td>\n",
       "    </tr>\n",
       "    <tr>\n",
       "      <th>11</th>\n",
       "      <td>Afghanistan</td>\n",
       "      <td>2001</td>\n",
       "      <td>506530</td>\n",
       "    </tr>\n",
       "    <tr>\n",
       "      <th>12</th>\n",
       "      <td>Afghanistan</td>\n",
       "      <td>2002</td>\n",
       "      <td>537767</td>\n",
       "    </tr>\n",
       "    <tr>\n",
       "      <th>13</th>\n",
       "      <td>Afghanistan</td>\n",
       "      <td>2003</td>\n",
       "      <td>573188</td>\n",
       "    </tr>\n",
       "    <tr>\n",
       "      <th>14</th>\n",
       "      <td>Afghanistan</td>\n",
       "      <td>2004</td>\n",
       "      <td>590949</td>\n",
       "    </tr>\n",
       "  </tbody>\n",
       "</table>\n",
       "</div>"
      ],
      "text/plain": [
       "        country  Year  Depression_Population\n",
       "10  Afghanistan  2000                 501129\n",
       "11  Afghanistan  2001                 506530\n",
       "12  Afghanistan  2002                 537767\n",
       "13  Afghanistan  2003                 573188\n",
       "14  Afghanistan  2004                 590949"
      ]
     },
     "execution_count": 26,
     "metadata": {},
     "output_type": "execute_result"
    }
   ],
   "source": [
    "depression_df.head()"
   ]
  },
  {
   "cell_type": "code",
   "execution_count": 27,
   "metadata": {},
   "outputs": [],
   "source": [
    "depression_df.country.replace('Bolivia', 'Bolivia (Plurinational State of)',inplace=True)\n",
    "depression_df.country.replace('Brunei', 'Brunei Darussalam',inplace=True)\n",
    "depression_df.country.replace('Iran','Iran (Islamic Republic of)',inplace=True)\n",
    "depression_df.country.replace('Laos','Lao People\\'s Democratic Republic',inplace=True)\n",
    "depression_df.country.replace('Micronesia (country)','Micronesia (Federated States of)',inplace=True)\n",
    "depression_df.country.replace('Moldova','Republic of Moldova',inplace=True)\n",
    "depression_df.country.replace('Russia','Russian Federation',inplace=True)\n",
    "depression_df.country.replace('Syria','Syrian Arab Republic',inplace=True)\n",
    "depression_df.country.replace('North Macedonia','The former Yugoslav republic of Macedonia',inplace=True)\n",
    "depression_df.country.replace('Timor','Timor-Leste',inplace=True)\n",
    "depression_df.country.replace('United Kingdom','United Kingdom of Great Britain and Northern Ireland',inplace=True)\n",
    "depression_df.country.replace('Tanzania','United Republic of Tanzania',inplace=True)\n",
    "depression_df.country.replace('United States','United States of America',inplace=True)\n",
    "depression_df.country.replace('Venezuela','Venezuela (Bolivarian Republic of)',inplace=True)\n",
    "depression_df.country.replace('South Korea','Republic of Korea',inplace=True)\n",
    "depression_df.country.replace('North Korea','Democratic People\\'s Republic of Korea',inplace=True)"
   ]
  },
  {
   "cell_type": "code",
   "execution_count": 28,
   "metadata": {},
   "outputs": [],
   "source": [
    "# Merge the dataset\n",
    "life_expectancy = life_expectancy.merge(depression_df,how='left')"
   ]
  },
  {
   "cell_type": "code",
   "execution_count": 29,
   "metadata": {},
   "outputs": [
    {
     "data": {
      "text/plain": [
       "193"
      ]
     },
     "execution_count": 29,
     "metadata": {},
     "output_type": "execute_result"
    }
   ],
   "source": [
    "life_expectancy.country.nunique()"
   ]
  },
  {
   "cell_type": "code",
   "execution_count": 30,
   "metadata": {},
   "outputs": [
    {
     "data": {
      "text/plain": [
       "array([\"Côte d'Ivoire\", 'Cabo Verde', 'Cook Islands',\n",
       "       'Democratic Republic of the Congo', 'Monaco', 'Nauru', 'Niue',\n",
       "       'Palau', 'Saint Kitts and Nevis', 'San Marino', 'Swaziland',\n",
       "       'Tuvalu'], dtype=object)"
      ]
     },
     "execution_count": 30,
     "metadata": {},
     "output_type": "execute_result"
    }
   ],
   "source": [
    "life_expectancy[life_expectancy.Depression_Population.isna()].country.unique()"
   ]
  },
  {
   "cell_type": "code",
   "execution_count": 31,
   "metadata": {},
   "outputs": [],
   "source": [
    "# Drop NaN from the columns\n",
    "life_expectancy.dropna(how='any',subset=['Depression_Population'],inplace=True)\n",
    "life_expectancy['Depression_Population'] = life_expectancy['Depression_Population'].astype(int)"
   ]
  },
  {
   "cell_type": "code",
   "execution_count": 32,
   "metadata": {},
   "outputs": [
    {
     "data": {
      "text/plain": [
       "181"
      ]
     },
     "execution_count": 32,
     "metadata": {},
     "output_type": "execute_result"
    }
   ],
   "source": [
    "life_expectancy.country.nunique()"
   ]
  },
  {
   "cell_type": "markdown",
   "metadata": {},
   "source": [
    "### Clean and merge Cannabis Legalization dataset"
   ]
  },
  {
   "cell_type": "code",
   "execution_count": 33,
   "metadata": {},
   "outputs": [],
   "source": [
    "cannabis_df = pd.read_csv('cannabis_legalization.csv')"
   ]
  },
  {
   "cell_type": "code",
   "execution_count": 34,
   "metadata": {},
   "outputs": [
    {
     "data": {
      "text/html": [
       "<div>\n",
       "<style scoped>\n",
       "    .dataframe tbody tr th:only-of-type {\n",
       "        vertical-align: middle;\n",
       "    }\n",
       "\n",
       "    .dataframe tbody tr th {\n",
       "        vertical-align: top;\n",
       "    }\n",
       "\n",
       "    .dataframe thead th {\n",
       "        text-align: right;\n",
       "    }\n",
       "</style>\n",
       "<table border=\"1\" class=\"dataframe\">\n",
       "  <thead>\n",
       "    <tr style=\"text-align: right;\">\n",
       "      <th></th>\n",
       "      <th>Country/Territory</th>\n",
       "      <th>Recreational</th>\n",
       "      <th>Medical</th>\n",
       "    </tr>\n",
       "  </thead>\n",
       "  <tbody>\n",
       "    <tr>\n",
       "      <th>0</th>\n",
       "      <td>Afghanistan</td>\n",
       "      <td>Illegal</td>\n",
       "      <td>Illegal</td>\n",
       "    </tr>\n",
       "    <tr>\n",
       "      <th>1</th>\n",
       "      <td>Albania</td>\n",
       "      <td>Illegal</td>\n",
       "      <td>Illegal</td>\n",
       "    </tr>\n",
       "    <tr>\n",
       "      <th>2</th>\n",
       "      <td>Algeria</td>\n",
       "      <td>Illegal</td>\n",
       "      <td>Illegal</td>\n",
       "    </tr>\n",
       "    <tr>\n",
       "      <th>3</th>\n",
       "      <td>Andorra</td>\n",
       "      <td>Illegal</td>\n",
       "      <td>Illegal</td>\n",
       "    </tr>\n",
       "    <tr>\n",
       "      <th>4</th>\n",
       "      <td>Angola</td>\n",
       "      <td>Illegal</td>\n",
       "      <td>Illegal</td>\n",
       "    </tr>\n",
       "    <tr>\n",
       "      <th>...</th>\n",
       "      <td>...</td>\n",
       "      <td>...</td>\n",
       "      <td>...</td>\n",
       "    </tr>\n",
       "    <tr>\n",
       "      <th>201</th>\n",
       "      <td>Venezuela</td>\n",
       "      <td>Illegal</td>\n",
       "      <td>Illegal</td>\n",
       "    </tr>\n",
       "    <tr>\n",
       "      <th>202</th>\n",
       "      <td>Vietnam</td>\n",
       "      <td>Illegal</td>\n",
       "      <td>Illegal</td>\n",
       "    </tr>\n",
       "    <tr>\n",
       "      <th>203</th>\n",
       "      <td>Yemen</td>\n",
       "      <td>Illegal</td>\n",
       "      <td>Illegal</td>\n",
       "    </tr>\n",
       "    <tr>\n",
       "      <th>204</th>\n",
       "      <td>Zambia</td>\n",
       "      <td>Illegal</td>\n",
       "      <td>Legal</td>\n",
       "    </tr>\n",
       "    <tr>\n",
       "      <th>205</th>\n",
       "      <td>Zimbabwe</td>\n",
       "      <td>Illegal</td>\n",
       "      <td>Legal</td>\n",
       "    </tr>\n",
       "  </tbody>\n",
       "</table>\n",
       "<p>206 rows × 3 columns</p>\n",
       "</div>"
      ],
      "text/plain": [
       "    Country/Territory Recreational  Medical\n",
       "0         Afghanistan      Illegal  Illegal\n",
       "1             Albania      Illegal  Illegal\n",
       "2             Algeria      Illegal  Illegal\n",
       "3             Andorra      Illegal  Illegal\n",
       "4              Angola      Illegal  Illegal\n",
       "..                ...          ...      ...\n",
       "201         Venezuela      Illegal  Illegal\n",
       "202           Vietnam      Illegal  Illegal\n",
       "203             Yemen      Illegal  Illegal\n",
       "204            Zambia      Illegal    Legal\n",
       "205          Zimbabwe      Illegal    Legal\n",
       "\n",
       "[206 rows x 3 columns]"
      ]
     },
     "execution_count": 34,
     "metadata": {},
     "output_type": "execute_result"
    }
   ],
   "source": [
    "cannabis_df"
   ]
  },
  {
   "cell_type": "code",
   "execution_count": 35,
   "metadata": {},
   "outputs": [],
   "source": [
    "# Clean the Recreational columns in dataset\n",
    "cannabis_df.Recreational[cannabis_df.Recreational.str.contains(\"Decriminalized|decriminalized\")] = 'Legal'\n",
    "cannabis_df.Recreational[cannabis_df.Recreational.str.contains(\"Legal\")] = 'Legal'\n",
    "cannabis_df.Recreational[cannabis_df.Recreational.str.contains(\"Illegal\")] = 'Illegal'\n",
    "cannabis_df.drop(cannabis_df[cannabis_df[\"Country/Territory\"] == \"Country/Territory\"].index, inplace=True)\n",
    "cannabis_df.drop(cannabis_df[cannabis_df[\"Recreational\"] == \"Un\\xadknown\"].index, inplace=True)\n"
   ]
  },
  {
   "cell_type": "code",
   "execution_count": 36,
   "metadata": {
    "scrolled": false
   },
   "outputs": [],
   "source": [
    "# Clean the Medical columns in dataset\n",
    "# Use loc[] method to prevent the chained indexing warning in this part\n",
    "cannabis_df.loc[:, \"Medical\"][cannabis_df.Medical.str.contains(\"Decriminalized|decriminalized\")] = 'Legal'\n",
    "cannabis_df.loc[:, \"Medical\"][cannabis_df.Medical.str.contains(\"Legal\")] = 'Legal'\n",
    "cannabis_df.loc[:, \"Medical\"][cannabis_df.Medical.str.contains(\"Illegal\")] = 'Illegal'\n",
    "cannabis_df.loc[:, \"Medical\"][cannabis_df.Medical.str.contains(\"Illegal\")] = 'Illegal'\n",
    "cannabis_df.loc[:, \"Medical\"][cannabis_df.Medical.str\\\n",
    "                              .contains(\"CBD|Sativex|Marinol|Dronabinol|Nabilone|permit|prescribed|underway|system\")] = 'Illegal'"
   ]
  },
  {
   "cell_type": "code",
   "execution_count": 37,
   "metadata": {},
   "outputs": [],
   "source": [
    "# Set Illegal to 0, Legal to 1\n",
    "cannabis_df.Recreational.replace(to_replace=[\"Illegal\",\"Legal\"],value=[0,1],inplace=True)\n",
    "cannabis_df.Medical.replace(to_replace=[\"Illegal\",\"Legal\"],value=[0,1],inplace=True)\n",
    "\n",
    "# Rename columns\n",
    "cannabis_df.rename(columns = {'Country/Territory':'country','Recreational':'Cannabis_Recreational',\\\n",
    "                              'Medical':'Cannabis_Medical'}, inplace = True)"
   ]
  },
  {
   "cell_type": "code",
   "execution_count": 38,
   "metadata": {},
   "outputs": [],
   "source": [
    "list_of_names_life = life_expectancy['country'].unique()\n",
    "list_of_names_can = cannabis_df['country'].unique()"
   ]
  },
  {
   "cell_type": "code",
   "execution_count": 39,
   "metadata": {},
   "outputs": [],
   "source": [
    "unmatched = []\n",
    "\n",
    "for i in range(len(list_of_names_life)):\n",
    "    for j in range(len(list_of_names_can)):\n",
    "        if list_of_names_life[i] not in list_of_names_can:\n",
    "            unmatched.append(list_of_names_life[i])\n",
    "            break\n",
    "        else:\n",
    "            break"
   ]
  },
  {
   "cell_type": "code",
   "execution_count": 40,
   "metadata": {},
   "outputs": [
    {
     "data": {
      "text/plain": [
       "['Bolivia (Plurinational State of)',\n",
       " 'Brunei Darussalam',\n",
       " 'China',\n",
       " 'Congo',\n",
       " 'Czechia',\n",
       " \"Democratic People's Republic of Korea\",\n",
       " 'Iran (Islamic Republic of)',\n",
       " \"Lao People's Democratic Republic\",\n",
       " 'Micronesia (Federated States of)',\n",
       " 'Republic of Korea',\n",
       " 'Republic of Moldova',\n",
       " 'Russian Federation',\n",
       " 'Sao Tome and Principe',\n",
       " 'Syrian Arab Republic',\n",
       " 'The former Yugoslav republic of Macedonia',\n",
       " 'Timor-Leste',\n",
       " 'United Kingdom of Great Britain and Northern Ireland',\n",
       " 'United Republic of Tanzania',\n",
       " 'United States of America',\n",
       " 'Venezuela (Bolivarian Republic of)']"
      ]
     },
     "execution_count": 40,
     "metadata": {},
     "output_type": "execute_result"
    }
   ],
   "source": [
    "unmatched"
   ]
  },
  {
   "cell_type": "code",
   "execution_count": 41,
   "metadata": {},
   "outputs": [],
   "source": [
    "cannabis_df.country.replace('Bolivia', 'Bolivia (Plurinational State of)',inplace=True)\n",
    "cannabis_df.country.replace('Brunei', 'Brunei Darussalam',inplace=True)\n",
    "cannabis_df.country.replace('People\\'s Republic of China (PRC)','China',inplace=True)\n",
    "cannabis_df.country.replace('Democratic Republic of the Congo','Congo',inplace=True)\n",
    "cannabis_df.country.replace('Czech Republic','Czechia',inplace=True)\n",
    "cannabis_df.country.replace('North Korea','Democratic People\\'s Republic of Korea',inplace=True)\n",
    "cannabis_df.country.replace('Iran','Iran (Islamic Republic of)',inplace=True)\n",
    "cannabis_df.country.replace('Laos','Lao People\\'s Democratic Republic',inplace=True)\n",
    "cannabis_df.country.replace('Micronesia','Micronesia (Federated States of)',inplace=True)\n",
    "cannabis_df.country.replace('Korea, South','Republic of Korea',inplace=True)\n",
    "cannabis_df.country.replace('Moldova','Republic of Moldova',inplace=True)\n",
    "cannabis_df.country.replace('Russia','Russian Federation',inplace=True)\n",
    "cannabis_df.country.replace('Syria','Syrian Arab Republic',inplace=True)\n",
    "cannabis_df.country.replace('North Macedonia','The former Yugoslav republic of Macedonia',inplace=True)\n",
    "cannabis_df.country.replace('East Timor','Timor-Leste',inplace=True)\n",
    "cannabis_df.country.replace('United Kingdom','United Kingdom of Great Britain and Northern Ireland',inplace=True)\n",
    "cannabis_df.country.replace('Tanzania','United Republic of Tanzania',inplace=True)\n",
    "cannabis_df.country.replace('United States','United States of America',inplace=True)\n",
    "cannabis_df.country.replace('Venezuela','Venezuela (Bolivarian Republic of)',inplace=True)"
   ]
  },
  {
   "cell_type": "code",
   "execution_count": 42,
   "metadata": {
    "scrolled": true
   },
   "outputs": [],
   "source": [
    "# Merge the dataset\n",
    "life_expectancy = life_expectancy.merge(cannabis_df,on='country',how='left')"
   ]
  },
  {
   "cell_type": "code",
   "execution_count": 43,
   "metadata": {},
   "outputs": [
    {
     "data": {
      "text/plain": [
       "181"
      ]
     },
     "execution_count": 43,
     "metadata": {},
     "output_type": "execute_result"
    }
   ],
   "source": [
    "life_expectancy.country.nunique()"
   ]
  },
  {
   "cell_type": "code",
   "execution_count": 44,
   "metadata": {},
   "outputs": [],
   "source": [
    "# Drop NaN from the columns\n",
    "life_expectancy.dropna(how='any',subset=['Cannabis_Recreational'],inplace=True)\n",
    "life_expectancy.dropna(how='any',subset=['Cannabis_Medical'],inplace=True)\n",
    "life_expectancy['Cannabis_Recreational'] = life_expectancy['Cannabis_Recreational'].astype(int)\n",
    "life_expectancy['Cannabis_Medical'] = life_expectancy['Cannabis_Medical'].astype(int)"
   ]
  },
  {
   "cell_type": "code",
   "execution_count": 45,
   "metadata": {
    "scrolled": true
   },
   "outputs": [
    {
     "data": {
      "text/plain": [
       "179"
      ]
     },
     "execution_count": 45,
     "metadata": {},
     "output_type": "execute_result"
    }
   ],
   "source": [
    "life_expectancy.country.nunique()"
   ]
  },
  {
   "cell_type": "markdown",
   "metadata": {},
   "source": [
    "## Clean and Update Population info"
   ]
  },
  {
   "cell_type": "code",
   "execution_count": 124,
   "metadata": {},
   "outputs": [
    {
     "data": {
      "text/html": [
       "<div>\n",
       "<style scoped>\n",
       "    .dataframe tbody tr th:only-of-type {\n",
       "        vertical-align: middle;\n",
       "    }\n",
       "\n",
       "    .dataframe tbody tr th {\n",
       "        vertical-align: top;\n",
       "    }\n",
       "\n",
       "    .dataframe thead th {\n",
       "        text-align: right;\n",
       "    }\n",
       "</style>\n",
       "<table border=\"1\" class=\"dataframe\">\n",
       "  <thead>\n",
       "    <tr style=\"text-align: right;\">\n",
       "      <th></th>\n",
       "      <th>name</th>\n",
       "      <th>Year</th>\n",
       "      <th>Population_new</th>\n",
       "    </tr>\n",
       "  </thead>\n",
       "  <tbody>\n",
       "    <tr>\n",
       "      <th>0</th>\n",
       "      <td>China</td>\n",
       "      <td>2015</td>\n",
       "      <td>1406847870</td>\n",
       "    </tr>\n",
       "    <tr>\n",
       "      <th>1</th>\n",
       "      <td>India</td>\n",
       "      <td>2015</td>\n",
       "      <td>1310152403</td>\n",
       "    </tr>\n",
       "    <tr>\n",
       "      <th>2</th>\n",
       "      <td>United States</td>\n",
       "      <td>2015</td>\n",
       "      <td>320878310</td>\n",
       "    </tr>\n",
       "    <tr>\n",
       "      <th>3</th>\n",
       "      <td>Indonesia</td>\n",
       "      <td>2015</td>\n",
       "      <td>258383256</td>\n",
       "    </tr>\n",
       "    <tr>\n",
       "      <th>4</th>\n",
       "      <td>Pakistan</td>\n",
       "      <td>2015</td>\n",
       "      <td>199426963</td>\n",
       "    </tr>\n",
       "    <tr>\n",
       "      <th>...</th>\n",
       "      <td>...</td>\n",
       "      <td>...</td>\n",
       "      <td>...</td>\n",
       "    </tr>\n",
       "    <tr>\n",
       "      <th>691</th>\n",
       "      <td>Montserrat</td>\n",
       "      <td>2000</td>\n",
       "      <td>4928</td>\n",
       "    </tr>\n",
       "    <tr>\n",
       "      <th>692</th>\n",
       "      <td>Falkland Islands</td>\n",
       "      <td>2000</td>\n",
       "      <td>2892</td>\n",
       "    </tr>\n",
       "    <tr>\n",
       "      <th>693</th>\n",
       "      <td>Niue</td>\n",
       "      <td>2000</td>\n",
       "      <td>1899</td>\n",
       "    </tr>\n",
       "    <tr>\n",
       "      <th>694</th>\n",
       "      <td>Tokelau</td>\n",
       "      <td>2000</td>\n",
       "      <td>1554</td>\n",
       "    </tr>\n",
       "    <tr>\n",
       "      <th>695</th>\n",
       "      <td>Vatican City</td>\n",
       "      <td>2000</td>\n",
       "      <td>785</td>\n",
       "    </tr>\n",
       "  </tbody>\n",
       "</table>\n",
       "<p>696 rows × 3 columns</p>\n",
       "</div>"
      ],
      "text/plain": [
       "                 name  Year  Population_new\n",
       "0               China  2015      1406847870\n",
       "1               India  2015      1310152403\n",
       "2       United States  2015       320878310\n",
       "3           Indonesia  2015       258383256\n",
       "4            Pakistan  2015       199426963\n",
       "..                ...   ...             ...\n",
       "691        Montserrat  2000            4928\n",
       "692  Falkland Islands  2000            2892\n",
       "693              Niue  2000            1899\n",
       "694           Tokelau  2000            1554\n",
       "695      Vatican City  2000             785\n",
       "\n",
       "[696 rows x 3 columns]"
      ]
     },
     "execution_count": 124,
     "metadata": {},
     "output_type": "execute_result"
    }
   ],
   "source": [
    "new_population = pd.read_csv('csvData_CountryPop.csv')\n",
    "new_population = new_population.rename(columns={'pop2015' : 2015 , 'pop2010' : 2010,\\\n",
    "                      'pop2000' : 2000}).drop(columns=['pop2021','pop2020','pop2019','pop2050','pop2030','pop1990','pop1970','pop1980','area','Density','GrowthRate','WorldPercentage','rank'])\n",
    "\n",
    "new_population.drop('cca2',axis=1,inplace=True)\n",
    "\n",
    "new_population = new_population.melt(id_vars=[\"name\"], \n",
    "        var_name = \"Year\", \n",
    "        value_name = \"Population_new\")\n",
    "\n",
    "new_population.Population_new = new_population.Population_new*1000\n",
    "new_population.Population_new = new_population.Population_new.astype('int')\n",
    "new_population.to_csv('new_population')\n",
    "new_population"
   ]
  },
  {
   "cell_type": "code",
   "execution_count": 125,
   "metadata": {},
   "outputs": [
    {
     "name": "stderr",
     "output_type": "stream",
     "text": [
      "<ipython-input-125-fd8f9df7e2f2>:2: SettingWithCopyWarning: \n",
      "A value is trying to be set on a copy of a slice from a DataFrame\n",
      "\n",
      "See the caveats in the documentation: https://pandas.pydata.org/pandas-docs/stable/user_guide/indexing.html#returning-a-view-versus-a-copy\n",
      "  new_population.loc[:, \"name\"][new_population.name.str.contains(\"Bolivia\")] = 'Bolivia (Plurinational State of)'\n",
      "<ipython-input-125-fd8f9df7e2f2>:3: SettingWithCopyWarning: \n",
      "A value is trying to be set on a copy of a slice from a DataFrame\n",
      "\n",
      "See the caveats in the documentation: https://pandas.pydata.org/pandas-docs/stable/user_guide/indexing.html#returning-a-view-versus-a-copy\n",
      "  new_population.loc[:, \"name\"][new_population.name.str.contains(\"Brunei\")] = 'Brunei Darussalam'\n",
      "<ipython-input-125-fd8f9df7e2f2>:5: SettingWithCopyWarning: \n",
      "A value is trying to be set on a copy of a slice from a DataFrame\n",
      "\n",
      "See the caveats in the documentation: https://pandas.pydata.org/pandas-docs/stable/user_guide/indexing.html#returning-a-view-versus-a-copy\n",
      "  new_population.loc[:, \"name\"][new_population.name.str.contains(\"DR Congo\")] = 'Congo'\n",
      "<ipython-input-125-fd8f9df7e2f2>:6: SettingWithCopyWarning: \n",
      "A value is trying to be set on a copy of a slice from a DataFrame\n",
      "\n",
      "See the caveats in the documentation: https://pandas.pydata.org/pandas-docs/stable/user_guide/indexing.html#returning-a-view-versus-a-copy\n",
      "  new_population.loc[:, \"name\"][new_population.name.str.contains(\"Czech Republic\")] = 'Czechia'\n",
      "<ipython-input-125-fd8f9df7e2f2>:7: SettingWithCopyWarning: \n",
      "A value is trying to be set on a copy of a slice from a DataFrame\n",
      "\n",
      "See the caveats in the documentation: https://pandas.pydata.org/pandas-docs/stable/user_guide/indexing.html#returning-a-view-versus-a-copy\n",
      "  new_population.loc[:, \"name\"][new_population.name.str.contains(\"Iran\")] = 'Iran (Islamic Republic of)'\n",
      "<ipython-input-125-fd8f9df7e2f2>:8: SettingWithCopyWarning: \n",
      "A value is trying to be set on a copy of a slice from a DataFrame\n",
      "\n",
      "See the caveats in the documentation: https://pandas.pydata.org/pandas-docs/stable/user_guide/indexing.html#returning-a-view-versus-a-copy\n",
      "  new_population.loc[:, \"name\"][new_population.name.str.contains(\"Laos\")] = 'Lao People\\'s Democratic Republic'\n",
      "<ipython-input-125-fd8f9df7e2f2>:9: SettingWithCopyWarning: \n",
      "A value is trying to be set on a copy of a slice from a DataFrame\n",
      "\n",
      "See the caveats in the documentation: https://pandas.pydata.org/pandas-docs/stable/user_guide/indexing.html#returning-a-view-versus-a-copy\n",
      "  new_population.loc[:, \"name\"][new_population.name.str.contains(\"Micronesia\")] = 'Micronesia (Federated States of)'\n",
      "<ipython-input-125-fd8f9df7e2f2>:10: SettingWithCopyWarning: \n",
      "A value is trying to be set on a copy of a slice from a DataFrame\n",
      "\n",
      "See the caveats in the documentation: https://pandas.pydata.org/pandas-docs/stable/user_guide/indexing.html#returning-a-view-versus-a-copy\n",
      "  new_population.loc[:, \"name\"][new_population.name.str.contains(\"South Korea\")] = 'Republic of Korea'\n",
      "<ipython-input-125-fd8f9df7e2f2>:12: SettingWithCopyWarning: \n",
      "A value is trying to be set on a copy of a slice from a DataFrame\n",
      "\n",
      "See the caveats in the documentation: https://pandas.pydata.org/pandas-docs/stable/user_guide/indexing.html#returning-a-view-versus-a-copy\n",
      "  new_population.loc[:, \"name\"][new_population.name.str.contains(\"Moldova\")] = 'Republic of Moldova'\n",
      "<ipython-input-125-fd8f9df7e2f2>:13: SettingWithCopyWarning: \n",
      "A value is trying to be set on a copy of a slice from a DataFrame\n",
      "\n",
      "See the caveats in the documentation: https://pandas.pydata.org/pandas-docs/stable/user_guide/indexing.html#returning-a-view-versus-a-copy\n",
      "  new_population.loc[:, \"name\"][new_population.name.str.contains(\"Russia\")] = 'Russian Federation'\n",
      "<ipython-input-125-fd8f9df7e2f2>:14: SettingWithCopyWarning: \n",
      "A value is trying to be set on a copy of a slice from a DataFrame\n",
      "\n",
      "See the caveats in the documentation: https://pandas.pydata.org/pandas-docs/stable/user_guide/indexing.html#returning-a-view-versus-a-copy\n",
      "  new_population.loc[:, \"name\"][new_population.name.str.contains(\"Syria\")] = 'Syrian Arab Republic'\n",
      "<ipython-input-125-fd8f9df7e2f2>:15: SettingWithCopyWarning: \n",
      "A value is trying to be set on a copy of a slice from a DataFrame\n",
      "\n",
      "See the caveats in the documentation: https://pandas.pydata.org/pandas-docs/stable/user_guide/indexing.html#returning-a-view-versus-a-copy\n",
      "  new_population.loc[:, \"name\"][new_population.name.str.contains(\"North Macedonia\")] = 'The former Yugoslav republic of Macedonia'\n",
      "<ipython-input-125-fd8f9df7e2f2>:16: SettingWithCopyWarning: \n",
      "A value is trying to be set on a copy of a slice from a DataFrame\n",
      "\n",
      "See the caveats in the documentation: https://pandas.pydata.org/pandas-docs/stable/user_guide/indexing.html#returning-a-view-versus-a-copy\n",
      "  new_population.loc[:, \"name\"][new_population.name.str.contains(\"United Kingdom\")] = 'United Kingdom of Great Britain and Northern Ireland'\n",
      "<ipython-input-125-fd8f9df7e2f2>:17: SettingWithCopyWarning: \n",
      "A value is trying to be set on a copy of a slice from a DataFrame\n",
      "\n",
      "See the caveats in the documentation: https://pandas.pydata.org/pandas-docs/stable/user_guide/indexing.html#returning-a-view-versus-a-copy\n",
      "  new_population.loc[:, \"name\"][new_population.name.str.contains(\"Tanzania\")] = 'United Republic of Tanzania'\n",
      "<ipython-input-125-fd8f9df7e2f2>:18: SettingWithCopyWarning: \n",
      "A value is trying to be set on a copy of a slice from a DataFrame\n",
      "\n",
      "See the caveats in the documentation: https://pandas.pydata.org/pandas-docs/stable/user_guide/indexing.html#returning-a-view-versus-a-copy\n",
      "  new_population.loc[:, \"name\"][new_population.name.str.contains(\"United States\")] = 'United States of America'\n",
      "<ipython-input-125-fd8f9df7e2f2>:19: SettingWithCopyWarning: \n",
      "A value is trying to be set on a copy of a slice from a DataFrame\n",
      "\n",
      "See the caveats in the documentation: https://pandas.pydata.org/pandas-docs/stable/user_guide/indexing.html#returning-a-view-versus-a-copy\n",
      "  new_population.loc[:, \"name\"][new_population.name.str.contains(\"Venezuela\")] = 'Venezuela (Bolivarian Republic of)'\n"
     ]
    }
   ],
   "source": [
    "# Cleaning the new_population datasets\n",
    "new_population.loc[:, \"name\"][new_population.name.str.contains(\"Bolivia\")] = 'Bolivia (Plurinational State of)'\n",
    "new_population.loc[:, \"name\"][new_population.name.str.contains(\"Brunei\")] = 'Brunei Darussalam'\n",
    "new_population.drop(new_population[new_population[\"name\"] == \"Republic of the Congo\"].index, inplace=True)\n",
    "new_population.loc[:, \"name\"][new_population.name.str.contains(\"DR Congo\")] = 'Congo'\n",
    "new_population.loc[:, \"name\"][new_population.name.str.contains(\"Czech Republic\")] = 'Czechia'\n",
    "new_population.loc[:, \"name\"][new_population.name.str.contains(\"Iran\")] = 'Iran (Islamic Republic of)'\n",
    "new_population.loc[:, \"name\"][new_population.name.str.contains(\"Laos\")] = 'Lao People\\'s Democratic Republic'\n",
    "new_population.loc[:, \"name\"][new_population.name.str.contains(\"Micronesia\")] = 'Micronesia (Federated States of)'\n",
    "new_population.loc[:, \"name\"][new_population.name.str.contains(\"South Korea\")] = 'Republic of Korea'\n",
    "new_population.drop(new_population[new_population[\"name\"] == \"North Korea\"].index, inplace=True)\n",
    "new_population.loc[:, \"name\"][new_population.name.str.contains(\"Moldova\")] = 'Republic of Moldova'\n",
    "new_population.loc[:, \"name\"][new_population.name.str.contains(\"Russia\")] = 'Russian Federation'\n",
    "new_population.loc[:, \"name\"][new_population.name.str.contains(\"Syria\")] = 'Syrian Arab Republic'\n",
    "new_population.loc[:, \"name\"][new_population.name.str.contains(\"North Macedonia\")] = 'The former Yugoslav republic of Macedonia'\n",
    "new_population.loc[:, \"name\"][new_population.name.str.contains(\"United Kingdom\")] = 'United Kingdom of Great Britain and Northern Ireland'\n",
    "new_population.loc[:, \"name\"][new_population.name.str.contains(\"Tanzania\")] = 'United Republic of Tanzania'\n",
    "new_population.loc[:, \"name\"][new_population.name.str.contains(\"United States\")] = 'United States of America'\n",
    "new_population.loc[:, \"name\"][new_population.name.str.contains(\"Venezuela\")] = 'Venezuela (Bolivarian Republic of)'"
   ]
  },
  {
   "cell_type": "code",
   "execution_count": 126,
   "metadata": {},
   "outputs": [],
   "source": [
    "life_expectancy = life_expectancy.merge(new_population,left_on=['country','Year'],right_on=['name','Year'],how = 'left').drop('name',axis=1)\n",
    "life_expectancy = life_expectancy.set_index('country').drop(['Dominica','Marshall Islands']).reset_index()"
   ]
  },
  {
   "cell_type": "code",
   "execution_count": 127,
   "metadata": {},
   "outputs": [
    {
     "data": {
      "text/plain": [
       "country\n",
       "Afghanistan                           2.812635e+07\n",
       "Albania                               2.989259e+06\n",
       "Algeria                               3.558257e+07\n",
       "Angola                                2.254537e+07\n",
       "Antigua and Barbuda                   8.586967e+04\n",
       "                                          ...     \n",
       "Venezuela (Bolivarian Republic of)    2.757140e+07\n",
       "Vietnam                               8.685171e+07\n",
       "Yemen                                 2.235394e+07\n",
       "Zambia                                1.330043e+07\n",
       "Zimbabwe                              1.279794e+07\n",
       "Name: Population_new, Length: 177, dtype: float64"
      ]
     },
     "execution_count": 127,
     "metadata": {},
     "output_type": "execute_result"
    }
   ],
   "source": [
    "# mean_pop = \n",
    "(life_expectancy.groupby('country')['Population_new'].mean())#.astype('int').to_frame()"
   ]
  },
  {
   "cell_type": "code",
   "execution_count": 128,
   "metadata": {},
   "outputs": [],
   "source": [
    "mean_pop = (life_expectancy.groupby('country')['Population_new'].mean()).astype('int').to_frame()\n",
    "life_expectancy = life_expectancy.merge(mean_pop,left_on='country',right_on='country',how='left')"
   ]
  },
  {
   "cell_type": "code",
   "execution_count": 129,
   "metadata": {},
   "outputs": [
    {
     "name": "stderr",
     "output_type": "stream",
     "text": [
      "<ipython-input-129-0a755a5f68dc>:4: SettingWithCopyWarning: \n",
      "A value is trying to be set on a copy of a slice from a DataFrame\n",
      "\n",
      "See the caveats in the documentation: https://pandas.pydata.org/pandas-docs/stable/user_guide/indexing.html#returning-a-view-versus-a-copy\n",
      "  life_expectancy.Population_new_x[a] = (life_expectancy.Population_new_y[a])\n"
     ]
    }
   ],
   "source": [
    "life_expectancy.Population_new_x.fillna(0,inplace=True)\n",
    "for a in range(len(life_expectancy)):\n",
    "    if life_expectancy.Population_new_x[a] == 0:\n",
    "        life_expectancy.Population_new_x[a] = (life_expectancy.Population_new_y[a])\n",
    "life_expectancy['Population'] = life_expectancy.Population_new_x.astype('int')      \n",
    "life_expectancy.drop(columns=['Population_new_x','Population_new_y'],inplace=True)"
   ]
  },
  {
   "cell_type": "markdown",
   "metadata": {},
   "source": [
    "*  Will life expectancy affect the crime rate and the depression rate?"
   ]
  },
  {
   "cell_type": "code",
   "execution_count": 130,
   "metadata": {},
   "outputs": [],
   "source": [
    "# Add a new column 'Depression Rate'\n",
    "life_expectancy['Depression Rate'] = life_expectancy.Depression_Population/life_expectancy.Population\n",
    "life_expectancy['Depression Rate'] = round(life_expectancy[\"Depression Rate\"],2)"
   ]
  },
  {
   "cell_type": "code",
   "execution_count": 133,
   "metadata": {},
   "outputs": [],
   "source": [
    "life_dep_crime = life_expectancy.groupby(['country'])[['Depression Rate','life_expectancy','Crime_Index']].mean()"
   ]
  },
  {
   "cell_type": "code",
   "execution_count": 134,
   "metadata": {},
   "outputs": [
    {
     "data": {
      "text/html": [
       "<div>\n",
       "<style scoped>\n",
       "    .dataframe tbody tr th:only-of-type {\n",
       "        vertical-align: middle;\n",
       "    }\n",
       "\n",
       "    .dataframe tbody tr th {\n",
       "        vertical-align: top;\n",
       "    }\n",
       "\n",
       "    .dataframe thead th {\n",
       "        text-align: right;\n",
       "    }\n",
       "</style>\n",
       "<table border=\"1\" class=\"dataframe\">\n",
       "  <thead>\n",
       "    <tr style=\"text-align: right;\">\n",
       "      <th></th>\n",
       "      <th>Depression Rate</th>\n",
       "      <th>life_expectancy</th>\n",
       "      <th>Crime_Index</th>\n",
       "    </tr>\n",
       "  </thead>\n",
       "  <tbody>\n",
       "    <tr>\n",
       "      <th>Depression Rate</th>\n",
       "      <td>1.000000</td>\n",
       "      <td>0.074109</td>\n",
       "      <td>0.013733</td>\n",
       "    </tr>\n",
       "    <tr>\n",
       "      <th>life_expectancy</th>\n",
       "      <td>0.074109</td>\n",
       "      <td>1.000000</td>\n",
       "      <td>-0.356438</td>\n",
       "    </tr>\n",
       "    <tr>\n",
       "      <th>Crime_Index</th>\n",
       "      <td>0.013733</td>\n",
       "      <td>-0.356438</td>\n",
       "      <td>1.000000</td>\n",
       "    </tr>\n",
       "  </tbody>\n",
       "</table>\n",
       "</div>"
      ],
      "text/plain": [
       "                 Depression Rate  life_expectancy  Crime_Index\n",
       "Depression Rate         1.000000         0.074109     0.013733\n",
       "life_expectancy         0.074109         1.000000    -0.356438\n",
       "Crime_Index             0.013733        -0.356438     1.000000"
      ]
     },
     "execution_count": 134,
     "metadata": {},
     "output_type": "execute_result"
    }
   ],
   "source": [
    "life_dep_crime.corr()"
   ]
  },
  {
   "cell_type": "markdown",
   "metadata": {},
   "source": [
    "* Are there countries having a decreased life expectancy between 2000 and 2015? Or having the highest life expectancy improvement? what what are the similarities between countries"
   ]
  },
  {
   "cell_type": "code",
   "execution_count": 50,
   "metadata": {},
   "outputs": [],
   "source": [
    "year2015 = life_expectancy[life_expectancy.Year == 2015]\n",
    "year2000 = life_expectancy[life_expectancy.Year == 2000]"
   ]
  },
  {
   "cell_type": "code",
   "execution_count": 51,
   "metadata": {},
   "outputs": [],
   "source": [
    "year15_00 = year2015.merge(year2000,on=\"country\",how=\"left\")"
   ]
  },
  {
   "cell_type": "code",
   "execution_count": 53,
   "metadata": {},
   "outputs": [],
   "source": [
    "year15_00 = year15_00[[\"country\",\"Year_x\",\"life_expectancy_x\",\"Year_y\",\"life_expectancy_y\",\"income_composition_x\",\"Schooling_x\",\"Status_x\",\\\n",
    "          \"latitude_x\",\"longitude_x\",\"Cigarettes_per_day_x\",\"Crime_Index_x\",\"Depression_Population_x\",\\\n",
    "          \"Cannabis_Recreational_x\",\"Cannabis_Medical_x\"]]"
   ]
  },
  {
   "cell_type": "code",
   "execution_count": 54,
   "metadata": {},
   "outputs": [],
   "source": [
    "#life expectancy difference between 2000 and 2015\n",
    "year15_00[\"life_difference\"] = year15_00.life_expectancy_x - year15_00.life_expectancy_y"
   ]
  },
  {
   "cell_type": "code",
   "execution_count": 56,
   "metadata": {},
   "outputs": [
    {
     "data": {
      "text/html": [
       "<div>\n",
       "<style scoped>\n",
       "    .dataframe tbody tr th:only-of-type {\n",
       "        vertical-align: middle;\n",
       "    }\n",
       "\n",
       "    .dataframe tbody tr th {\n",
       "        vertical-align: top;\n",
       "    }\n",
       "\n",
       "    .dataframe thead th {\n",
       "        text-align: right;\n",
       "    }\n",
       "</style>\n",
       "<table border=\"1\" class=\"dataframe\">\n",
       "  <thead>\n",
       "    <tr style=\"text-align: right;\">\n",
       "      <th></th>\n",
       "      <th>country</th>\n",
       "      <th>Year_x</th>\n",
       "      <th>life_expectancy_x</th>\n",
       "      <th>Year_y</th>\n",
       "      <th>life_expectancy_y</th>\n",
       "      <th>income_composition_x</th>\n",
       "      <th>Schooling_x</th>\n",
       "      <th>Status_x</th>\n",
       "      <th>latitude_x</th>\n",
       "      <th>longitude_x</th>\n",
       "      <th>Cigarettes_per_day_x</th>\n",
       "      <th>Crime_Index_x</th>\n",
       "      <th>Depression_Population_x</th>\n",
       "      <th>Cannabis_Recreational_x</th>\n",
       "      <th>Cannabis_Medical_x</th>\n",
       "      <th>life_difference</th>\n",
       "    </tr>\n",
       "  </thead>\n",
       "  <tbody>\n",
       "    <tr>\n",
       "      <th>152</th>\n",
       "      <td>Syrian Arab Republic</td>\n",
       "      <td>2015</td>\n",
       "      <td>64.5</td>\n",
       "      <td>2000</td>\n",
       "      <td>72.6</td>\n",
       "      <td>0.553</td>\n",
       "      <td>9.0</td>\n",
       "      <td>0</td>\n",
       "      <td>NaN</td>\n",
       "      <td>NaN</td>\n",
       "      <td>2291.7</td>\n",
       "      <td>67.18000</td>\n",
       "      <td>554078</td>\n",
       "      <td>0</td>\n",
       "      <td>0</td>\n",
       "      <td>-8.1</td>\n",
       "    </tr>\n",
       "    <tr>\n",
       "      <th>132</th>\n",
       "      <td>Saint Vincent and the Grenadines</td>\n",
       "      <td>2015</td>\n",
       "      <td>73.2</td>\n",
       "      <td>2000</td>\n",
       "      <td>79.0</td>\n",
       "      <td>0.720</td>\n",
       "      <td>13.3</td>\n",
       "      <td>0</td>\n",
       "      <td>12.984305</td>\n",
       "      <td>-61.287228</td>\n",
       "      <td>259.6</td>\n",
       "      <td>45.29811</td>\n",
       "      <td>3356</td>\n",
       "      <td>1</td>\n",
       "      <td>1</td>\n",
       "      <td>-5.8</td>\n",
       "    </tr>\n",
       "  </tbody>\n",
       "</table>\n",
       "</div>"
      ],
      "text/plain": [
       "                              country  Year_x  life_expectancy_x  Year_y  \\\n",
       "152              Syrian Arab Republic    2015               64.5    2000   \n",
       "132  Saint Vincent and the Grenadines    2015               73.2    2000   \n",
       "\n",
       "     life_expectancy_y  income_composition_x  Schooling_x  Status_x  \\\n",
       "152               72.6                 0.553          9.0         0   \n",
       "132               79.0                 0.720         13.3         0   \n",
       "\n",
       "     latitude_x  longitude_x  Cigarettes_per_day_x  Crime_Index_x  \\\n",
       "152         NaN          NaN                2291.7       67.18000   \n",
       "132   12.984305   -61.287228                 259.6       45.29811   \n",
       "\n",
       "     Depression_Population_x  Cannabis_Recreational_x  Cannabis_Medical_x  \\\n",
       "152                   554078                        0                   0   \n",
       "132                     3356                        1                   1   \n",
       "\n",
       "     life_difference  \n",
       "152             -8.1  \n",
       "132             -5.8  "
      ]
     },
     "execution_count": 56,
     "metadata": {},
     "output_type": "execute_result"
    }
   ],
   "source": [
    "neg = year15_00[year15_00.life_difference < 0].sort_values(by=\"life_difference\",ascending=True)\n",
    "neg.head(2)"
   ]
  },
  {
   "cell_type": "code",
   "execution_count": 60,
   "metadata": {},
   "outputs": [],
   "source": [
    "cor_n = neg.corr()"
   ]
  },
  {
   "cell_type": "code",
   "execution_count": 109,
   "metadata": {},
   "outputs": [
    {
     "data": {
      "text/plain": [
       "income_composition_x       0.956417\n",
       "Schooling_x                0.931039\n",
       "life_expectancy_y          0.791884\n",
       "Cannabis_Recreational_x    0.555458\n",
       "life_difference            0.411408\n",
       "Name: life_expectancy_x, dtype: float64"
      ]
     },
     "execution_count": 109,
     "metadata": {},
     "output_type": "execute_result"
    }
   ],
   "source": [
    "cor_n[cor_n < 1].life_expectancy_x.sort_values(ascending=False).nlargest(5)"
   ]
  },
  {
   "cell_type": "code",
   "execution_count": 63,
   "metadata": {},
   "outputs": [
    {
     "data": {
      "text/html": [
       "<div>\n",
       "<style scoped>\n",
       "    .dataframe tbody tr th:only-of-type {\n",
       "        vertical-align: middle;\n",
       "    }\n",
       "\n",
       "    .dataframe tbody tr th {\n",
       "        vertical-align: top;\n",
       "    }\n",
       "\n",
       "    .dataframe thead th {\n",
       "        text-align: right;\n",
       "    }\n",
       "</style>\n",
       "<table border=\"1\" class=\"dataframe\">\n",
       "  <thead>\n",
       "    <tr style=\"text-align: right;\">\n",
       "      <th></th>\n",
       "      <th>country</th>\n",
       "      <th>Year_x</th>\n",
       "      <th>life_expectancy_x</th>\n",
       "      <th>Year_y</th>\n",
       "      <th>life_expectancy_y</th>\n",
       "      <th>income_composition_x</th>\n",
       "      <th>Schooling_x</th>\n",
       "      <th>Status_x</th>\n",
       "      <th>latitude_x</th>\n",
       "      <th>longitude_x</th>\n",
       "      <th>Cigarettes_per_day_x</th>\n",
       "      <th>Crime_Index_x</th>\n",
       "      <th>Depression_Population_x</th>\n",
       "      <th>Cannabis_Recreational_x</th>\n",
       "      <th>Cannabis_Medical_x</th>\n",
       "      <th>life_difference</th>\n",
       "    </tr>\n",
       "  </thead>\n",
       "  <tbody>\n",
       "    <tr>\n",
       "      <th>0</th>\n",
       "      <td>Afghanistan</td>\n",
       "      <td>2015</td>\n",
       "      <td>65.0</td>\n",
       "      <td>2000</td>\n",
       "      <td>54.8</td>\n",
       "      <td>0.479</td>\n",
       "      <td>10.1</td>\n",
       "      <td>0</td>\n",
       "      <td>33.939110</td>\n",
       "      <td>67.709953</td>\n",
       "      <td>311.6</td>\n",
       "      <td>76.31</td>\n",
       "      <td>906133</td>\n",
       "      <td>0</td>\n",
       "      <td>0</td>\n",
       "      <td>10.2</td>\n",
       "    </tr>\n",
       "    <tr>\n",
       "      <th>1</th>\n",
       "      <td>Albania</td>\n",
       "      <td>2015</td>\n",
       "      <td>77.8</td>\n",
       "      <td>2000</td>\n",
       "      <td>72.6</td>\n",
       "      <td>0.762</td>\n",
       "      <td>14.2</td>\n",
       "      <td>0</td>\n",
       "      <td>41.153332</td>\n",
       "      <td>20.168331</td>\n",
       "      <td>2491.6</td>\n",
       "      <td>42.53</td>\n",
       "      <td>69074</td>\n",
       "      <td>0</td>\n",
       "      <td>0</td>\n",
       "      <td>5.2</td>\n",
       "    </tr>\n",
       "  </tbody>\n",
       "</table>\n",
       "</div>"
      ],
      "text/plain": [
       "       country  Year_x  life_expectancy_x  Year_y  life_expectancy_y  \\\n",
       "0  Afghanistan    2015               65.0    2000               54.8   \n",
       "1      Albania    2015               77.8    2000               72.6   \n",
       "\n",
       "   income_composition_x  Schooling_x  Status_x  latitude_x  longitude_x  \\\n",
       "0                 0.479         10.1         0   33.939110    67.709953   \n",
       "1                 0.762         14.2         0   41.153332    20.168331   \n",
       "\n",
       "   Cigarettes_per_day_x  Crime_Index_x  Depression_Population_x  \\\n",
       "0                 311.6          76.31                   906133   \n",
       "1                2491.6          42.53                    69074   \n",
       "\n",
       "   Cannabis_Recreational_x  Cannabis_Medical_x  life_difference  \n",
       "0                        0                   0             10.2  \n",
       "1                        0                   0              5.2  "
      ]
     },
     "execution_count": 63,
     "metadata": {},
     "output_type": "execute_result"
    }
   ],
   "source": [
    "highest = year15_00[(year15_00.life_expectancy_x - year15_00.life_expectancy_y) > 0].head(10)\n",
    "highest.head(2)"
   ]
  },
  {
   "cell_type": "code",
   "execution_count": 64,
   "metadata": {},
   "outputs": [],
   "source": [
    "cor_h = highest.corr()"
   ]
  },
  {
   "cell_type": "code",
   "execution_count": 110,
   "metadata": {},
   "outputs": [
    {
     "data": {
      "text/plain": [
       "life_expectancy_y          0.985632\n",
       "income_composition_x       0.887743\n",
       "Schooling_x                0.724134\n",
       "Cannabis_Recreational_x    0.554496\n",
       "Status_x                   0.511712\n",
       "Name: life_expectancy_x, dtype: float64"
      ]
     },
     "execution_count": 110,
     "metadata": {},
     "output_type": "execute_result"
    }
   ],
   "source": [
    "cor_h[cor_h < 1].life_expectancy_x.sort_values(ascending=False).nlargest(5)"
   ]
  },
  {
   "cell_type": "markdown",
   "metadata": {},
   "source": [
    "## Clustering"
   ]
  },
  {
   "cell_type": "code",
   "execution_count": 48,
   "metadata": {},
   "outputs": [],
   "source": [
    "from sklearn.cluster import KMeans"
   ]
  },
  {
   "cell_type": "code",
   "execution_count": 91,
   "metadata": {},
   "outputs": [
    {
     "data": {
      "text/plain": [
       "sklearn.cluster._kmeans.KMeans"
      ]
     },
     "execution_count": 91,
     "metadata": {},
     "output_type": "execute_result"
    }
   ],
   "source": [
    "clu = KMeans(n_clusters=4, random_state=0)\n",
    "type(clu)"
   ]
  },
  {
   "cell_type": "code",
   "execution_count": 108,
   "metadata": {},
   "outputs": [
    {
     "name": "stdout",
     "output_type": "stream",
     "text": [
      "<class 'pandas.core.frame.DataFrame'>\n",
      "Int64Index: 177 entries, 0 to 176\n",
      "Data columns (total 16 columns):\n",
      " #   Column                   Non-Null Count  Dtype  \n",
      "---  ------                   --------------  -----  \n",
      " 0   country                  177 non-null    object \n",
      " 1   Year_x                   177 non-null    int64  \n",
      " 2   life_expectancy_x        177 non-null    float64\n",
      " 3   Year_y                   177 non-null    int64  \n",
      " 4   life_expectancy_y        177 non-null    float64\n",
      " 5   income_composition_x     177 non-null    float64\n",
      " 6   Schooling_x              177 non-null    float64\n",
      " 7   Status_x                 177 non-null    int32  \n",
      " 8   latitude_x               158 non-null    float64\n",
      " 9   longitude_x              158 non-null    float64\n",
      " 10  Cigarettes_per_day_x     170 non-null    float64\n",
      " 11  Crime_Index_x            177 non-null    float64\n",
      " 12  Depression_Population_x  177 non-null    int32  \n",
      " 13  Cannabis_Recreational_x  177 non-null    int32  \n",
      " 14  Cannabis_Medical_x       177 non-null    int32  \n",
      " 15  life_difference          177 non-null    float64\n",
      "dtypes: float64(9), int32(4), int64(2), object(1)\n",
      "memory usage: 20.7+ KB\n"
     ]
    }
   ],
   "source": [
    "year15_00.info()"
   ]
  },
  {
   "cell_type": "code",
   "execution_count": 93,
   "metadata": {},
   "outputs": [
    {
     "data": {
      "text/plain": [
       "KMeans(n_clusters=4, random_state=0)"
      ]
     },
     "execution_count": 93,
     "metadata": {},
     "output_type": "execute_result"
    }
   ],
   "source": [
    "clu.fit(year15_00[[\"Schooling_x\",\"income_composition_x\"]]) #just put X, X==df"
   ]
  },
  {
   "cell_type": "code",
   "execution_count": 94,
   "metadata": {},
   "outputs": [
    {
     "data": {
      "text/plain": [
       "array([2, 0, 0, 2, 0, 3, 0, 3, 3, 0, 0, 0, 2, 3, 3, 3, 0, 2, 0, 0, 0, 0,\n",
       "       3, 0, 0, 1, 2, 2, 2, 3, 1, 1, 3, 0, 0, 2, 2, 0, 3, 0, 0, 2, 3, 1,\n",
       "       0, 0, 0, 0, 1, 1, 3, 1, 3, 3, 3, 0, 1, 0, 3, 2, 3, 3, 2, 1, 1, 2,\n",
       "       1, 2, 3, 3, 2, 0, 0, 2, 3, 3, 3, 0, 3, 0, 0, 2, 2, 0, 0, 2, 3, 0,\n",
       "       2, 2, 0, 3, 0, 2, 2, 0, 0, 1, 0, 1, 3, 0, 2, 0, 0, 2, 1, 1, 2, 2,\n",
       "       3, 3, 2, 1, 2, 3, 0, 1, 0, 2, 2, 0, 2, 3, 3, 0, 2, 2, 0, 0, 2, 0,\n",
       "       0, 0, 3, 1, 0, 0, 1, 3, 0, 3, 1, 2, 0, 1, 3, 0, 1, 0, 3, 3, 1, 2,\n",
       "       0, 0, 0, 2, 0, 0, 0, 0, 2, 2, 3, 0, 2, 2, 2, 3, 2, 2, 0, 0, 1, 0,\n",
       "       2])"
      ]
     },
     "execution_count": 94,
     "metadata": {},
     "output_type": "execute_result"
    }
   ],
   "source": [
    "clu.labels_"
   ]
  },
  {
   "cell_type": "code",
   "execution_count": 95,
   "metadata": {},
   "outputs": [],
   "source": [
    "year15_00_2 = year15_00.copy().drop(columns=[\"country\",\"latitude_x\",\"longitude_x\",\"Cigarettes_per_day_x\"])"
   ]
  },
  {
   "cell_type": "code",
   "execution_count": 96,
   "metadata": {},
   "outputs": [],
   "source": [
    "year15_00_2[\"cluster\"] = clu.labels_"
   ]
  },
  {
   "cell_type": "code",
   "execution_count": 98,
   "metadata": {},
   "outputs": [
    {
     "data": {
      "text/html": [
       "<div>\n",
       "<style scoped>\n",
       "    .dataframe tbody tr th:only-of-type {\n",
       "        vertical-align: middle;\n",
       "    }\n",
       "\n",
       "    .dataframe tbody tr th {\n",
       "        vertical-align: top;\n",
       "    }\n",
       "\n",
       "    .dataframe thead th {\n",
       "        text-align: right;\n",
       "    }\n",
       "</style>\n",
       "<table border=\"1\" class=\"dataframe\">\n",
       "  <thead>\n",
       "    <tr style=\"text-align: right;\">\n",
       "      <th></th>\n",
       "      <th>income_composition_x</th>\n",
       "      <th>Schooling_x</th>\n",
       "    </tr>\n",
       "    <tr>\n",
       "      <th>cluster</th>\n",
       "      <th></th>\n",
       "      <th></th>\n",
       "    </tr>\n",
       "  </thead>\n",
       "  <tbody>\n",
       "    <tr>\n",
       "      <th>0</th>\n",
       "      <td>0.749821</td>\n",
       "      <td>13.625373</td>\n",
       "    </tr>\n",
       "    <tr>\n",
       "      <th>1</th>\n",
       "      <td>0.459958</td>\n",
       "      <td>8.095833</td>\n",
       "    </tr>\n",
       "    <tr>\n",
       "      <th>2</th>\n",
       "      <td>0.575932</td>\n",
       "      <td>11.146729</td>\n",
       "    </tr>\n",
       "    <tr>\n",
       "      <th>3</th>\n",
       "      <td>0.863550</td>\n",
       "      <td>16.607500</td>\n",
       "    </tr>\n",
       "  </tbody>\n",
       "</table>\n",
       "</div>"
      ],
      "text/plain": [
       "         income_composition_x  Schooling_x\n",
       "cluster                                   \n",
       "0                    0.749821    13.625373\n",
       "1                    0.459958     8.095833\n",
       "2                    0.575932    11.146729\n",
       "3                    0.863550    16.607500"
      ]
     },
     "execution_count": 98,
     "metadata": {},
     "output_type": "execute_result"
    }
   ],
   "source": [
    "year15_00_2.groupby(\"cluster\")[[\"income_composition_x\",\"Schooling_x\"]].mean()"
   ]
  },
  {
   "cell_type": "markdown",
   "metadata": {},
   "source": [
    "## Getting summary based on the clusters of Schooling and income composition"
   ]
  },
  {
   "cell_type": "code",
   "execution_count": 105,
   "metadata": {},
   "outputs": [],
   "source": [
    "year15_00_2[\"Schooling_bin\"] = pd.cut(year15_00_2[\"Schooling_x\"], bins=[0,8,11.5,15,25])"
   ]
  },
  {
   "cell_type": "code",
   "execution_count": 100,
   "metadata": {},
   "outputs": [],
   "source": [
    "year15_00_2[\"income_bin\"] = pd.cut(year15_00_2[\"income_composition_x\"], bins=[0,0.5,0.65,0.8,1])"
   ]
  },
  {
   "cell_type": "code",
   "execution_count": 103,
   "metadata": {},
   "outputs": [],
   "source": [
    "import seaborn as sns"
   ]
  },
  {
   "cell_type": "code",
   "execution_count": 106,
   "metadata": {},
   "outputs": [],
   "source": [
    "gr = year15_00_2.groupby(['Schooling_bin','income_bin'])\\\n",
    "    ['life_expectancy_x'].mean()"
   ]
  },
  {
   "cell_type": "code",
   "execution_count": 107,
   "metadata": {},
   "outputs": [
    {
     "data": {
      "image/png": "[encoded data removed]",
      "text/plain": [
       "<Figure size 432x288 with 2 Axes>"
      ]
     },
     "metadata": {
      "needs_background": "light"
     },
     "output_type": "display_data"
    }
   ],
   "source": [
    "sns.heatmap(gr.unstack(),annot=True,cmap='Reds').invert_yaxis()"
   ]
  },
  {
   "cell_type": "markdown",
   "metadata": {},
   "source": [
    "* Will the legalization of cannabis for medical use improve life expectancy? \n",
    "* Or will the legalization of cannabis for recreational use reduce the crime rate and so improve life expectancy?"
   ]
  },
  {
   "cell_type": "code",
   "execution_count": 113,
   "metadata": {},
   "outputs": [
    {
     "data": {
      "text/html": [
       "<div>\n",
       "<style scoped>\n",
       "    .dataframe tbody tr th:only-of-type {\n",
       "        vertical-align: middle;\n",
       "    }\n",
       "\n",
       "    .dataframe tbody tr th {\n",
       "        vertical-align: top;\n",
       "    }\n",
       "\n",
       "    .dataframe thead th {\n",
       "        text-align: right;\n",
       "    }\n",
       "</style>\n",
       "<table border=\"1\" class=\"dataframe\">\n",
       "  <thead>\n",
       "    <tr style=\"text-align: right;\">\n",
       "      <th></th>\n",
       "      <th></th>\n",
       "      <th>life_expectancy</th>\n",
       "      <th>Crime_Index</th>\n",
       "    </tr>\n",
       "    <tr>\n",
       "      <th>Cannabis_Recreational</th>\n",
       "      <th>Cannabis_Medical</th>\n",
       "      <th></th>\n",
       "      <th></th>\n",
       "    </tr>\n",
       "  </thead>\n",
       "  <tbody>\n",
       "    <tr>\n",
       "      <th rowspan=\"2\" valign=\"top\">0</th>\n",
       "      <th>0</th>\n",
       "      <td>66.817419</td>\n",
       "      <td>46.436817</td>\n",
       "    </tr>\n",
       "    <tr>\n",
       "      <th>1</th>\n",
       "      <td>72.456771</td>\n",
       "      <td>41.419843</td>\n",
       "    </tr>\n",
       "    <tr>\n",
       "      <th rowspan=\"2\" valign=\"top\">1</th>\n",
       "      <th>0</th>\n",
       "      <td>74.007987</td>\n",
       "      <td>43.511194</td>\n",
       "    </tr>\n",
       "    <tr>\n",
       "      <th>1</th>\n",
       "      <td>77.953274</td>\n",
       "      <td>44.664492</td>\n",
       "    </tr>\n",
       "  </tbody>\n",
       "</table>\n",
       "</div>"
      ],
      "text/plain": [
       "                                        life_expectancy  Crime_Index\n",
       "Cannabis_Recreational Cannabis_Medical                              \n",
       "0                     0                       66.817419    46.436817\n",
       "                      1                       72.456771    41.419843\n",
       "1                     0                       74.007987    43.511194\n",
       "                      1                       77.953274    44.664492"
      ]
     },
     "execution_count": 113,
     "metadata": {},
     "output_type": "execute_result"
    }
   ],
   "source": [
    "life_expectancy.groupby(['Cannabis_Recreational','Cannabis_Medical']).\\\n",
    "agg({'life_expectancy':\"mean\", \"Crime_Index\":\"mean\"})"
   ]
  },
  {
   "cell_type": "code",
   "execution_count": 116,
   "metadata": {},
   "outputs": [
    {
     "data": {
      "text/plain": [
       "0        (73.527, 83.76]\n",
       "1        (73.527, 83.76]\n",
       "2        (73.527, 83.76]\n",
       "3        (73.527, 83.76]\n",
       "4        (73.527, 83.76]\n",
       "              ...       \n",
       "2861    (53.061, 63.294]\n",
       "2862    (53.061, 63.294]\n",
       "2863    (53.061, 63.294]\n",
       "2864    (53.061, 63.294]\n",
       "2865    (53.061, 63.294]\n",
       "Name: Crime_Index, Length: 2834, dtype: category\n",
       "Categories (7, interval[float64]): [(12.058, 22.363] < (22.363, 32.596] < (32.596, 42.829] < (42.829, 53.061] < (53.061, 63.294] < (63.294, 73.527] < (73.527, 83.76]]"
      ]
     },
     "execution_count": 116,
     "metadata": {},
     "output_type": "execute_result"
    }
   ],
   "source": [
    "pd.cut(life_expectancy['Crime_Index'], 7)"
   ]
  },
  {
   "cell_type": "code",
   "execution_count": 122,
   "metadata": {},
   "outputs": [],
   "source": [
    "life_expectancy['crimeBin'] = pd.cut(life_expectancy['Crime_Index'], bins=[0,25,35,45,55,65,75,85,100])"
   ]
  },
  {
   "cell_type": "code",
   "execution_count": 123,
   "metadata": {},
   "outputs": [
    {
     "name": "stderr",
     "output_type": "stream",
     "text": [
      "C:\\Users\\NiNi\\anaconda3\\lib\\site-packages\\seaborn\\categorical.py:3704: UserWarning: The `factorplot` function has been renamed to `catplot`. The original name will be removed in a future release. Please update your code. Note that the default `kind` in `factorplot` (`'point'`) has changed `'strip'` in `catplot`.\n",
      "  warnings.warn(msg)\n"
     ]
    },
    {
     "data": {
      "text/plain": [
       "<seaborn.axisgrid.FacetGrid at 0x1d1bbed7d30>"
      ]
     },
     "execution_count": 123,
     "metadata": {},
     "output_type": "execute_result"
    },
    {
     "data": {
      "image/png": "[encoded data removed]",
      "text/plain": [
       "<Figure size 1080x360 with 1 Axes>"
      ]
     },
     "metadata": {
      "needs_background": "light"
     },
     "output_type": "display_data"
    }
   ],
   "source": [
    "sns.factorplot(x='crimeBin',y='life_expectancy', data=life_expectancy,\\\n",
    "              aspect=3)"
   ]
  },
  {
   "cell_type": "code",
   "execution_count": null,
   "metadata": {},
   "outputs": [],
   "source": []
  }
 ],
 "metadata": {
  "kernelspec": {
   "display_name": "Python 3",
   "language": "python",
   "name": "python3"
  },
  "language_info": {
   "codemirror_mode": {
    "name": "ipython",
    "version": 3
   },
   "file_extension": ".py",
   "mimetype": "text/x-python",
   "name": "python",
   "nbconvert_exporter": "python",
   "pygments_lexer": "ipython3",
   "version": "3.8.5"
  }
 },
 "nbformat": 4,
 "nbformat_minor": 5
}
